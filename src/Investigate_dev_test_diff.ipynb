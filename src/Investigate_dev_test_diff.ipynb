{
 "cells": [
  {
   "cell_type": "code",
   "execution_count": 1,
   "metadata": {},
   "outputs": [],
   "source": [
    "import sys\n",
    "import os\n",
    "\n",
    "import pandas as pd\n",
    "import matplotlib.pyplot as plt\n",
    "\n",
    "sys.path.insert(0, os.path.abspath('../..'))\n",
    "sys.path.insert(0, os.path.abspath('..'))\n",
    "\n",
    "from src.utils.load_data_utils import get_data, get_train_eval_data"
   ]
  },
  {
   "cell_type": "code",
   "execution_count": 2,
   "metadata": {},
   "outputs": [],
   "source": [
    "# pharmaimage_good_dataset\n",
    "# regular path: yeo_Y/z/median/uni_clip_0.9999/multi_clip_Y"
   ]
  },
  {
   "cell_type": "code",
   "execution_count": 3,
   "metadata": {},
   "outputs": [],
   "source": [
    "class Empty:\n",
    "    def __init__(self):\n",
    "        pass\n",
    "\n",
    "def load_args(data_path):\n",
    "    args = Empty()\n",
    "    args.df = data_path\n",
    "    args.use_pod = 1\n",
    "    args.use_pocd = 0\n",
    "    args.eval_only_pod = 0\n",
    "    args.v = 0\n",
    "    args.features = None\n",
    "    args.blood = 0\n",
    "    args.clinical = 1\n",
    "    args.imaging = 0\n",
    "    args.imaging_pca = 0\n",
    "    args.static = 1\n",
    "    args.miss_feats = 1\n",
    "    args.nf = 0\n",
    "    args.split = 'dev/test'\n",
    "    return args"
   ]
  },
  {
   "cell_type": "code",
   "execution_count": null,
   "metadata": {},
   "outputs": [],
   "source": []
  },
  {
   "cell_type": "code",
   "execution_count": null,
   "metadata": {},
   "outputs": [],
   "source": []
  },
  {
   "cell_type": "code",
   "execution_count": 4,
   "metadata": {},
   "outputs": [],
   "source": [
    "import pickle5 as pickle\n",
    "import importlib\n",
    "class PickleProtocol:\n",
    "    def __init__(self, level):\n",
    "        self.previous = pickle.HIGHEST_PROTOCOL\n",
    "        self.level = level\n",
    "\n",
    "    def __enter__(self):\n",
    "        importlib.reload(pickle)\n",
    "        pickle.HIGHEST_PROTOCOL = self.level\n",
    "\n",
    "    def __exit__(self, *exc):\n",
    "        importlib.reload(pickle)\n",
    "        pickle.HIGHEST_PROTOCOL = self.previous\n",
    "\n",
    "def pickle_protocol(level):\n",
    "    return PickleProtocol(level)\n",
    "#with pickle_protocol(5):"
   ]
  },
  {
   "cell_type": "code",
   "execution_count": 25,
   "metadata": {},
   "outputs": [],
   "source": [
    "import umap\n",
    "import umap.plot"
   ]
  },
  {
   "cell_type": "code",
   "execution_count": 50,
   "metadata": {},
   "outputs": [],
   "source": [
    "import numpy as np\n",
    "from sklearn.ensemble import IsolationForest\n",
    "from sklearn.neighbors import LocalOutlierFactor\n",
    "from xgboost import XGBClassifier\n",
    "from sklearn.metrics import average_precision_score\n",
    "\n",
    "\n",
    "def eval_split(data_path, remove_outliers=0, do_umap=False):\n",
    "    args = load_args(data_path)\n",
    "    print(\"Path: \", args.df)\n",
    "    x_train, y_train, x_eval, y_eval, _, feature_names, class_weights = get_data(args) \n",
    "    dev_df_target =  pd.DataFrame(data=y_train[0], columns=[\"POD\"])\n",
    "    test_df_target =  pd.DataFrame(data=y_eval[0], columns=[\"POD\"])\n",
    "    print(\"Diff POD:\", (dev_df_target.mean() - test_df_target.mean()).abs().iloc[0])\n",
    "    \n",
    "    dev_df = pd.DataFrame(data=x_train[0], columns=feature_names)\n",
    "    test_df = pd.DataFrame(data=x_eval[0], columns=feature_names)\n",
    "    \n",
    "    if \"Unnamed: 0\" in dev_df.columns:\n",
    "        dev_df = dev_df.drop(columns=[\"Unnamed: 0\"])\n",
    "        test_df = test_df.drop(columns=[\"Unnamed: 0\"])\n",
    "    \n",
    "    \n",
    "    #plt.hist(dev_df[\"clinical_anaesthesia_duration\"], bins=30, label=\"dev\", density=True, alpha=1)\n",
    "    #plt.hist(test_df[\"clinical_anaesthesia_duration\"], bins=30, label=\"test\", density=True, alpha=0.7)\n",
    "    #plt.legend()\n",
    "    #plt.show()\n",
    "    \n",
    "    fract_diff = (dev_df.mean() - test_df.mean()).abs()\n",
    "    #print(fract_diff.sort_values().iloc[:10])\n",
    "    #print(fract_diff.sort_values().iloc[-10:])\n",
    "    print(\"Mean diff: \", fract_diff.mean())\n",
    "    print(len(dev_df), len(test_df))\n",
    "    combined_data = pd.concat([dev_df, test_df], axis=0)\n",
    "    non_na_cols = ~dev_df.columns.str.contains(\"_nan\")\n",
    "    clf = IsolationForest(random_state=0, contamination=0.95, n_estimators=100)\n",
    "    clf.fit(dev_df.loc[:, non_na_cols])#\n",
    "    iso_dev_preds = clf.predict(dev_df.loc[:, non_na_cols])\n",
    "    iso_dev_mask = iso_dev_preds == 1\n",
    "    print(\"Isolation Forest:\")\n",
    "    print(\"Total outliers in dev set: \", iso_dev_mask.sum(), \"Prop: \", iso_dev_mask.mean())\n",
    "    iso_test_preds = clf.predict(test_df.loc[:, non_na_cols])\n",
    "    iso_test_mask = iso_test_preds == 1\n",
    "    print(\"Total outliers in test set: \", iso_test_mask.sum(), \"Prop: \", iso_test_mask.mean())\n",
    "    print()\n",
    "    \n",
    "    #print(\"LOF:\")\n",
    "    #clf = LocalOutlierFactor(n_neighbors=20, contamination=0.48)\n",
    "    #preds = clf.fit_predict(combined_data)\n",
    "    #dev_preds = preds[:len(dev_df)]\n",
    "    #test_preds = preds[:len(test_df)]\n",
    "    #dev_mask = dev_preds == 1\n",
    "    #test_mask = test_preds == 1\n",
    "    #print(\"Total outliers in dev set: \", dev_mask.sum(), \"Prop: \", dev_mask.mean())\n",
    "    #print(\"Total outliers in test set: \", test_mask.sum(), \"Prop: \", test_mask.mean())\n",
    "    #print()\n",
    "    \n",
    "    # remove devset outliers (should decrease performance)\n",
    "    train_targets = y_train[0]#[~iso_dev_mask]\n",
    "    \n",
    "    if remove_outliers:\n",
    "        dev_df = dev_df.iloc[np.where(~iso_dev_mask)]\n",
    "        train_targets = train_targets[~iso_dev_mask]\n",
    "    \n",
    "    clf = XGBClassifier(n_estimators=100, max_depth=1, learning_rate=0.09)\n",
    "    clf.fit(dev_df, train_targets)\n",
    "    preds = clf.predict_proba(test_df)[:, 1]\n",
    "    targets = y_eval[0]\n",
    "    ap = average_precision_score(targets, preds)\n",
    "    print(\"AP:\", ap)\n",
    "    \n",
    "    if do_umap:\n",
    "        umapper = umap.UMAP(n_components=2)\n",
    "        umap_dev_embs = umapper.fit_transform(dev_df)\n",
    "\n",
    "        umap.plot.points(umapper, labels=train_targets, theme=\"fire\")\n",
    "        print(\"test data\")\n",
    "        umap_test_embs = umapper.transform(test_df)\n",
    "        umapper.embedding_ = umap_test_embs\n",
    "        umap.plot.points(umapper, labels=targets, theme=\"fire\")\n",
    "        # For fun train a model:\n",
    "        clf = XGBClassifier(n_estimators=100, max_depth=1, learning_rate=0.09)\n",
    "        clf.fit(umap_dev_embs, train_targets)\n",
    "        preds = clf.predict_proba(umap_test_embs)[:, 1]\n",
    "        targets = y_eval[0]\n",
    "        ap = average_precision_score(targets, preds)\n",
    "        print(\"AP UMAP: \", ap)\n",
    "        \n",
    "        # check refitting on test data\n",
    "        #print(\"test retrain\")\n",
    "        #umapper.fit_transform(test_df)\n",
    "        #umap.plot.points(umapper, labels=targets, theme=\"fire\")\n"
   ]
  },
  {
   "cell_type": "code",
   "execution_count": 52,
   "metadata": {},
   "outputs": [
    {
     "name": "stdout",
     "output_type": "stream",
     "text": [
      "Path:  pharmaimage_good_dataset\n",
      "Diff POD: 0.0058212829069336225\n",
      "Mean diff:  0.04636260970049596\n",
      "725 186\n",
      "Isolation Forest:\n",
      "Total outliers in dev set:  37 Prop:  0.05103448275862069\n",
      "Total outliers in test set:  9 Prop:  0.04838709677419355\n",
      "\n",
      "AP: 0.6814940253147471\n"
     ]
    }
   ],
   "source": [
    "eval_split(\"pharmaimage_good_dataset\", do_umap=False)"
   ]
  },
  {
   "cell_type": "code",
   "execution_count": 53,
   "metadata": {},
   "outputs": [
    {
     "name": "stdout",
     "output_type": "stream",
     "text": [
      "Path:  pharmaimage_good_dataset\n",
      "Diff POD: 0.0058212829069336225\n",
      "Mean diff:  0.04636260970049596\n",
      "725 186\n",
      "Isolation Forest:\n",
      "Total outliers in dev set:  37 Prop:  0.05103448275862069\n",
      "Total outliers in test set:  9 Prop:  0.04838709677419355\n",
      "\n",
      "AP: 0.6805417413044623\n"
     ]
    }
   ],
   "source": [
    "eval_split(\"pharmaimage_good_dataset\", remove_outliers=1)"
   ]
  },
  {
   "cell_type": "code",
   "execution_count": null,
   "metadata": {},
   "outputs": [],
   "source": []
  },
  {
   "cell_type": "code",
   "execution_count": 54,
   "metadata": {},
   "outputs": [
    {
     "name": "stdout",
     "output_type": "stream",
     "text": [
      "Path:  yeo_Y/z/median/uni_clip_0.9999/multi_clip_Y\n",
      "Diff POD: 0.003869786127850633\n",
      "Mean diff:  0.03599501876843749\n",
      "728 186\n",
      "Isolation Forest:\n",
      "Total outliers in dev set:  37 Prop:  0.050824175824175824\n",
      "Total outliers in test set:  4 Prop:  0.021505376344086023\n",
      "\n",
      "AP: 0.6370867829683413\n"
     ]
    }
   ],
   "source": [
    "eval_split(\"yeo_Y/z/median/uni_clip_0.9999/multi_clip_Y\")"
   ]
  },
  {
   "cell_type": "code",
   "execution_count": 55,
   "metadata": {},
   "outputs": [
    {
     "name": "stdout",
     "output_type": "stream",
     "text": [
      "Path:  yeo_Y/z/median/uni_clip_0.9999/multi_clip_Y\n",
      "Diff POD: 0.003869786127850633\n",
      "Mean diff:  0.03599501876843749\n",
      "728 186\n",
      "Isolation Forest:\n",
      "Total outliers in dev set:  37 Prop:  0.050824175824175824\n",
      "Total outliers in test set:  4 Prop:  0.021505376344086023\n",
      "\n",
      "AP: 0.6489318552656391\n"
     ]
    }
   ],
   "source": [
    "eval_split(\"yeo_Y/z/median/uni_clip_0.9999/multi_clip_Y\", remove_outliers=1)"
   ]
  },
  {
   "cell_type": "code",
   "execution_count": 56,
   "metadata": {},
   "outputs": [
    {
     "name": "stdout",
     "output_type": "stream",
     "text": [
      "Path:  yeo_Y/z/median/uni_clip_0.9999/multi_clip_N\n",
      "Diff POD: 0.0010781632150971554\n",
      "Mean diff:  0.03551868572201418\n",
      "743 186\n",
      "Isolation Forest:\n",
      "Total outliers in dev set:  38 Prop:  0.05114401076716016\n",
      "Total outliers in test set:  15 Prop:  0.08064516129032258\n",
      "\n",
      "AP: 0.4651123645479984\n"
     ]
    }
   ],
   "source": [
    "eval_split(\"yeo_Y/z/median/uni_clip_0.9999/multi_clip_N\")"
   ]
  },
  {
   "cell_type": "code",
   "execution_count": 17,
   "metadata": {},
   "outputs": [
    {
     "name": "stdout",
     "output_type": "stream",
     "text": [
      "Path:  yeo_Y/z/median/uni_clip_0.9999/multi_clip_N\n",
      "Diff POD: 0.0010781632150971554\n",
      "Mean diff:  0.03551868572201418\n",
      "743 186\n",
      "Isolation Forest:\n",
      "Total outliers in dev set:  38 Prop:  0.05114401076716016\n",
      "Total outliers in test set:  15 Prop:  0.08064516129032258\n",
      "\n",
      "AP: 0.46682889129781274\n"
     ]
    }
   ],
   "source": [
    "eval_split(\"yeo_Y/z/median/uni_clip_0.9999/multi_clip_N\", remove_outliers=1)"
   ]
  },
  {
   "cell_type": "code",
   "execution_count": null,
   "metadata": {},
   "outputs": [],
   "source": []
  },
  {
   "cell_type": "code",
   "execution_count": 18,
   "metadata": {},
   "outputs": [
    {
     "name": "stdout",
     "output_type": "stream",
     "text": [
      "Path:  yeo_Y/z/median/uni_clip_0.95/multi_clip_Y\n",
      "Diff POD: 0.007606403208519158\n",
      "Mean diff:  0.0348366394337834\n",
      "622 186\n",
      "Isolation Forest:\n",
      "Total outliers in dev set:  32 Prop:  0.05144694533762058\n",
      "Total outliers in test set:  15 Prop:  0.08064516129032258\n",
      "\n",
      "AP: 0.4468360052401391\n"
     ]
    }
   ],
   "source": [
    "eval_split(\"yeo_Y/z/median/uni_clip_0.95/multi_clip_Y\")"
   ]
  },
  {
   "cell_type": "code",
   "execution_count": 19,
   "metadata": {},
   "outputs": [
    {
     "name": "stdout",
     "output_type": "stream",
     "text": [
      "Path:  yeo_Y/z/median/uni_clip_0.95/multi_clip_N\n",
      "Diff POD: 0.0010781632150971554\n",
      "Mean diff:  0.03289160507674584\n",
      "743 186\n",
      "Isolation Forest:\n",
      "Total outliers in dev set:  38 Prop:  0.05114401076716016\n",
      "Total outliers in test set:  13 Prop:  0.06989247311827956\n",
      "\n",
      "AP: 0.47609244485058194\n"
     ]
    }
   ],
   "source": [
    "eval_split(\"yeo_Y/z/median/uni_clip_0.95/multi_clip_N\")"
   ]
  },
  {
   "cell_type": "code",
   "execution_count": 20,
   "metadata": {},
   "outputs": [
    {
     "name": "stdout",
     "output_type": "stream",
     "text": [
      "Path:  yeo_Y/z/median/uni_clip_0.95/multi_clip_N\n",
      "Diff POD: 0.0010781632150971554\n",
      "Mean diff:  0.03289160507674584\n",
      "743 186\n",
      "Isolation Forest:\n",
      "Total outliers in dev set:  38 Prop:  0.05114401076716016\n",
      "Total outliers in test set:  13 Prop:  0.06989247311827956\n",
      "\n",
      "AP: 0.4777579478223559\n"
     ]
    }
   ],
   "source": [
    "eval_split(\"yeo_Y/z/median/uni_clip_0.95/multi_clip_N\", remove_outliers=1)"
   ]
  },
  {
   "cell_type": "code",
   "execution_count": null,
   "metadata": {},
   "outputs": [],
   "source": []
  }
 ],
 "metadata": {
  "kernelspec": {
   "display_name": "Python 3",
   "language": "python",
   "name": "python3"
  },
  "language_info": {
   "codemirror_mode": {
    "name": "ipython",
    "version": 3
   },
   "file_extension": ".py",
   "mimetype": "text/x-python",
   "name": "python",
   "nbconvert_exporter": "python",
   "pygments_lexer": "ipython3",
   "version": "3.7.7"
  }
 },
 "nbformat": 4,
 "nbformat_minor": 4
}
