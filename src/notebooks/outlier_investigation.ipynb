{
 "cells": [
  {
   "cell_type": "code",
   "execution_count": null,
   "metadata": {},
   "outputs": [],
   "source": [
    "import pandas as pd\n",
    "import numpy as np\n",
    "import seaborn as sn\n",
    "import matplotlib.pyplot as plt"
   ]
  },
  {
   "cell_type": "code",
   "execution_count": null,
   "metadata": {},
   "outputs": [],
   "source": [
    "non_yeo = pd.DataFrame(data=np.load(\"../../data/non-transformed_minmax/iterative-filled/blood_vals.npy\"), \n",
    "                        columns=np.load(\"../../data/non-transformed_minmax/iterative-filled/blood_names.npy\"))\n",
    "\n",
    "# !! Although the path says 'minmax' I actually commented out the normalization for this one"
   ]
  },
  {
   "cell_type": "code",
   "execution_count": null,
   "metadata": {},
   "outputs": [],
   "source": [
    "static = pd.DataFrame(data=np.load(\"../../data/non-transformed_minmax/iterative-filled/static_vals.npy\", allow_pickle=True), \n",
    "                        columns=np.load(\"../../data/non-transformed_minmax/iterative-filled/static_names.npy\"))\n",
    "static"
   ]
  },
  {
   "cell_type": "code",
   "execution_count": null,
   "metadata": {},
   "outputs": [],
   "source": [
    "pod = np.load(\"../../data/non_transformed_minmax/iterative_filled/POD.npy\")\n",
    "pocd = np.load(\"../../data/non_transformed_minmax/iterative_filled/POCD.npy\")"
   ]
  },
  {
   "cell_type": "code",
   "execution_count": null,
   "metadata": {},
   "outputs": [],
   "source": [
    "non_yeo[\"POD\"] = pod\n",
    "non_yeo[\"POCD\"] = pocd"
   ]
  },
  {
   "cell_type": "markdown",
   "metadata": {},
   "source": [
    "# not Yeo transformed data - overview"
   ]
  },
  {
   "cell_type": "code",
   "execution_count": null,
   "metadata": {},
   "outputs": [],
   "source": [
    "non_yeo"
   ]
  },
  {
   "cell_type": "markdown",
   "metadata": {},
   "source": [
    "# Get univariate outliers via quantile"
   ]
  },
  {
   "cell_type": "code",
   "execution_count": null,
   "metadata": {},
   "outputs": [],
   "source": [
    "def univariate_outliers(df, quantile):\n",
    "    df[\"any_uni_low_outlier\"] = pd.Series([0] * len(df))\n",
    "    df[\"any_uni_high_outlier\"] = pd.Series([0] * len(df))\n",
    "    upq = quantile\n",
    "    loq = 1 - quantile\n",
    "    quant_thresh = [loq, upq]\n",
    "    count_total = 0\n",
    "    num_cases = len(df)\n",
    "\n",
    "    for name in df.columns[:-1]:\n",
    "        df[f\"{name}_uni_low_outlier\"] = pd.Series([0] * len(df))\n",
    "        df[f\"{name}_uni_high_outlier\"] = pd.Series([0] * len(df))\n",
    "        # get upper and lower quantiles\n",
    "\n",
    "        quants = df[name].quantile(quant_thresh)\n",
    "\n",
    "        # lower\n",
    "        df.loc[(df[name] < quants[loq]), [f\"{name}_uni_low_outlier\"]] = 1\n",
    "        df.loc[(df[name] > quants[upq]), [f\"{name}_uni_high_outlier\"]] = 1\n",
    "        df.loc[(df[name] < quants[loq]), [\"any_uni_low_outlier\"]] += 1\n",
    "        df.loc[(df[name] > quants[upq]), [\"any_uni_high_outlier\"]] += 1\n",
    "  \n",
    "        count_low = df.loc[:, f\"{name}_uni_low_outlier\"].sum()\n",
    "        count_high = df.loc[:, f\"{name}_uni_high_outlier\"].sum()\n",
    "        count_total += (df[f\"{name}_uni_low_outlier\"] | df[f\"{name}_uni_high_outlier\"]).sum()\n",
    "        if count_high == 0:\n",
    "            del df[f\"{name}_uni_high_outlier\"]\n",
    "        if count_low == 0:\n",
    "            del df[f\"{name}_uni_low_outlier\"]\n",
    "        percent_low = np.round((count_low / num_cases) * 100, 2)\n",
    "        percent_high = np.round((count_high / num_cases) * 100, 2)\n",
    "        print(f\"{name}\\n: {count_low} abs., {percent_low}% 'low' outliers\\n{count_high} abs., {percent_high}% 'high' outliers\")\n",
    "\n",
    "    percent_total = np.round((count_total / num_cases) * 100, 2)\n",
    "    print(f\"\\n{count_total} abs. cases with at least one outlier, {percent_total}% outliers in total\")\n",
    "\n",
    "    return df"
   ]
  },
  {
   "cell_type": "code",
   "execution_count": null,
   "metadata": {
    "tags": [
     "outputPrepend",
     "outputPrepend",
     "outputPrepend",
     "outputPrepend"
    ]
   },
   "outputs": [],
   "source": [
    "non_yeo_uni = univariate_outliers(non_yeo, 0.9999)"
   ]
  },
  {
   "cell_type": "markdown",
   "metadata": {},
   "source": [
    "# Investigate distribution of outlier count per case"
   ]
  },
  {
   "cell_type": "code",
   "execution_count": null,
   "metadata": {},
   "outputs": [],
   "source": [
    "print(\"Number of low outliers per person with any low outlier.\")\n",
    "non_yeo_uni.loc[non_yeo_uni[\"any_uni_low_outlier\"] > 0, \"any_uni_low_outlier\"].hist()"
   ]
  },
  {
   "cell_type": "code",
   "execution_count": null,
   "metadata": {},
   "outputs": [],
   "source": [
    "print(\"Number of high outliers per person with any high outlier.\")\n",
    "non_yeo_uni.loc[non_yeo_uni[\"any_uni_high_outlier\"] > 0, \"any_uni_high_outlier\"].hist()"
   ]
  },
  {
   "cell_type": "code",
   "execution_count": null,
   "metadata": {},
   "outputs": [],
   "source": [
    "print(\"Number of cases that show both high and low outliers.\")\n",
    "(non_yeo_uni[\"any_uni_high_outlier\"] & non_yeo_uni[\"any_uni_low_outlier\"]).sum()"
   ]
  },
  {
   "cell_type": "code",
   "execution_count": null,
   "metadata": {},
   "outputs": [],
   "source": [
    "high_outlier_cols = non_yeo_uni.columns[non_yeo_uni.columns.str.contains(\"high_outlier\")]\n",
    "low_outlier_cols = non_yeo_uni.columns[non_yeo_uni.columns.str.contains(\"low_outlier\")]"
   ]
  },
  {
   "cell_type": "markdown",
   "metadata": {},
   "source": [
    "# Isolation forest"
   ]
  },
  {
   "cell_type": "code",
   "execution_count": null,
   "metadata": {},
   "outputs": [],
   "source": [
    "from sklearn.ensemble import IsolationForest"
   ]
  },
  {
   "cell_type": "code",
   "execution_count": null,
   "metadata": {},
   "outputs": [],
   "source": [
    "non_yeo.columns"
   ]
  },
  {
   "cell_type": "code",
   "execution_count": null,
   "metadata": {},
   "outputs": [],
   "source": [
    "out_inliers = IsolationForest(random_state=0).fit_predict(non_yeo.loc[:, ~non_yeo.columns.str.contains(\"uni|POD|POCD\")])\n",
    "# -1 are outliers"
   ]
  },
  {
   "cell_type": "code",
   "execution_count": null,
   "metadata": {},
   "outputs": [],
   "source": [
    "print(\"Number of outliers in a multivariate sense as classified by the IsolationForest\")\n",
    "np.sum(out_inliers == -1)"
   ]
  },
  {
   "cell_type": "markdown",
   "metadata": {},
   "source": [
    "## Distribution of the number of outliers (univariate) for the multivariate outliers"
   ]
  },
  {
   "cell_type": "markdown",
   "metadata": {},
   "source": [
    "### Do they have in general more univariate outlier values than others? -> in tendency yes"
   ]
  },
  {
   "cell_type": "code",
   "execution_count": null,
   "metadata": {},
   "outputs": [],
   "source": [
    "print(\"Number of high univariate outliers for cases **that are** multivariate outliers\")\n",
    "non_yeo_uni.loc[out_inliers == -1, \"any_uni_high_outlier\"].hist()"
   ]
  },
  {
   "cell_type": "code",
   "execution_count": null,
   "metadata": {},
   "outputs": [],
   "source": [
    "print(\"Number of high univariate outliers for cases that are **not** multivariate outliers\")\n",
    "non_yeo_uni.loc[out_inliers == 1, \"any_uni_high_outlier\"].hist()"
   ]
  },
  {
   "cell_type": "code",
   "execution_count": null,
   "metadata": {},
   "outputs": [],
   "source": [
    "print(\"Number of low univariate outliers for cases **that are** multivariate outliers\")\n",
    "non_yeo_uni.loc[out_inliers == -1, \"any_uni_low_outlier\"].hist()"
   ]
  },
  {
   "cell_type": "code",
   "execution_count": null,
   "metadata": {},
   "outputs": [],
   "source": [
    "print(\"Number of low univariate outliers for cases that are **not** multivariate outliers\")\n",
    "non_yeo_uni.loc[out_inliers == 1, \"any_uni_low_outlier\"].hist()"
   ]
  },
  {
   "cell_type": "markdown",
   "metadata": {},
   "source": [
    "## Closer look at the multivariate outliers"
   ]
  },
  {
   "cell_type": "code",
   "execution_count": null,
   "metadata": {},
   "outputs": [],
   "source": [
    "np.where(out_inliers == -1)"
   ]
  },
  {
   "cell_type": "markdown",
   "metadata": {},
   "source": [
    "### In sum, they all have at least three outlying values (univariate) "
   ]
  },
  {
   "cell_type": "code",
   "execution_count": null,
   "metadata": {},
   "outputs": [],
   "source": [
    "non_yeo_uni.loc[out_inliers == -1, non_yeo_uni.columns.str.contains(\"_outlier\")]"
   ]
  },
  {
   "cell_type": "markdown",
   "metadata": {},
   "source": [
    "### Do they have more missings than others? -> no"
   ]
  },
  {
   "cell_type": "code",
   "execution_count": null,
   "metadata": {},
   "outputs": [],
   "source": [
    "missings = static.loc[:, \"Missingness\"].values"
   ]
  },
  {
   "cell_type": "code",
   "execution_count": null,
   "metadata": {},
   "outputs": [],
   "source": [
    "\n",
    "sums = np.zeros(len(static))\n",
    "for i, m in enumerate(missings):\n",
    "    sums[i] = np.sum(m)\n",
    "\n",
    "plt.hist(sums)"
   ]
  },
  {
   "cell_type": "code",
   "execution_count": null,
   "metadata": {},
   "outputs": [],
   "source": [
    "print(f\"Average amount of missings per person {np.round(np.mean(sums), 1)} and standard dev. {np.round(np.std(sums), 1)}\")"
   ]
  },
  {
   "cell_type": "code",
   "execution_count": null,
   "metadata": {},
   "outputs": [],
   "source": [
    "print(\"Small/ normal amount of missings for the multivariate outliers.\")\n",
    "sums[out_inliers == -1] "
   ]
  },
  {
   "cell_type": "markdown",
   "metadata": {},
   "source": [
    "### Do they show patterns wrt. age, gender, height, etc.? -> gender balanced, values within normal range, weight diverse, no obvious pattern here"
   ]
  },
  {
   "cell_type": "code",
   "execution_count": null,
   "metadata": {},
   "outputs": [],
   "source": [
    "static.loc[out_inliers == -1, : \"Gewicht\"]"
   ]
  },
  {
   "cell_type": "markdown",
   "metadata": {},
   "source": [
    "### What are the outlying values?"
   ]
  },
  {
   "cell_type": "code",
   "execution_count": null,
   "metadata": {},
   "outputs": [],
   "source": [
    "outlier_cols = non_yeo_uni.columns[non_yeo_uni.columns.str.contains(\"_outlier\")]\n"
   ]
  },
  {
   "cell_type": "code",
   "execution_count": null,
   "metadata": {},
   "outputs": [],
   "source": [
    "outlying_cols_all = []\n",
    "outliers_df = non_yeo_uni.loc[out_inliers == -1, :].copy()\n",
    "\n",
    "for idx in non_yeo.index[out_inliers == -1]:\n",
    "    outlying_cols = [col.split('_uni_', 1)[0] for col in outlier_cols if not 'any' in col and non_yeo_uni.loc[idx, col] == 1]\n",
    "    outliers_df.loc[idx, ~outliers_df.columns.isin(outlying_cols)] = 'normal'\n",
    "    outlying_cols_all += outlying_cols\n",
    "outlying_cols_all = set(outlying_cols_all)"
   ]
  },
  {
   "cell_type": "code",
   "execution_count": null,
   "metadata": {},
   "outputs": [],
   "source": [
    "outliers_df[outlying_cols_all]"
   ]
  },
  {
   "cell_type": "code",
   "execution_count": null,
   "metadata": {
    "tags": [
     "outputPrepend"
    ]
   },
   "outputs": [],
   "source": [
    "for idx in outliers_df.index[10:]:\n",
    "    print(f\"Case {idx}:\\n\", outliers_df.loc[idx, outlying_cols_all], \"\\n\\n\")"
   ]
  },
  {
   "cell_type": "code",
   "execution_count": null,
   "metadata": {},
   "outputs": [],
   "source": []
  }
 ],
 "metadata": {
  "language_info": {
   "codemirror_mode": {
    "name": "ipython",
    "version": 3
   },
   "file_extension": ".py",
   "mimetype": "text/x-python",
   "name": "python",
   "nbconvert_exporter": "python",
   "pygments_lexer": "ipython3",
   "version": "3.6.9-final"
  },
  "orig_nbformat": 2,
  "kernelspec": {
   "name": "python36964bitpharmenvvenved983ebcd40347eea30854f79cc46185",
   "display_name": "Python 3.6.9 64-bit ('pharm_env': venv)"
  }
 },
 "nbformat": 4,
 "nbformat_minor": 2
}