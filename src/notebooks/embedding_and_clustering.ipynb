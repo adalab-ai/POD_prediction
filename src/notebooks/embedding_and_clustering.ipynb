{
 "cells": [
  {
   "cell_type": "code",
   "execution_count": null,
   "metadata": {},
   "outputs": [],
   "source": [
    "import os\n",
    "import sys\n",
    "\n",
    "import numpy as np\n",
    "import pandas as pd\n",
    "import matplotlib.pyplot as plt\n",
    "from matplotlib import colors\n",
    "import seaborn as sns\n",
    "import umap\n",
    "import umap.plot\n",
    "\n",
    "from sklearn.neighbors import LocalOutlierFactor #contamination\n",
    "from sklearn.cluster import DBSCAN #eps=0.5, min_samples=5,\n",
    "from sklearn.decomposition import PCA, FastICA  #n_components\n",
    "from sklearn.neural_network import MLPClassifier\n",
    "from sklearn.ensemble import RandomForestClassifier, GradientBoostingClassifier\n",
    "from sklearn.metrics import roc_auc_score, classification_report\n",
    "\n",
    "# Add parent folder to syspath to include local util functions\n",
    "sys.path.insert(0, os.path.abspath('..'))\n",
    "from utils.load_data_utils import load_data\n",
    "from utils.plot_utils import plot_embedding"
   ]
  },
  {
   "cell_type": "code",
   "execution_count": null,
   "metadata": {},
   "outputs": [],
   "source": [
    "data_dir = \"../../data/\"\n",
    "plots_dir = \"../../plots/\"\n",
    "# Options: \"IterativeImputeBayesed\", \"IterativeImputeRFed\", \"IterativeImputeKNNed\", \"mean_filled\", \"median_filled\"\n",
    "data_dict = load_data(\"yeojohnsoned_z/iterative-filled\")\n",
    "data_dict.keys()"
   ]
  },
  {
   "cell_type": "code",
   "execution_count": null,
   "metadata": {},
   "outputs": [],
   "source": [
    "# Get partitioned data:\n",
    "train_data, test_data = data_dict[\"train_data\"], data_dict[\"test_data\"]\n",
    "train_pod, test_pod = data_dict[\"train_pod\"], data_dict[\"test_pod\"]\n",
    "train_pocd, test_pocd = data_dict[\"train_pocd\"], data_dict[\"test_pocd\"]"
   ]
  },
  {
   "cell_type": "code",
   "execution_count": null,
   "metadata": {},
   "outputs": [],
   "source": [
    "# Absolute difference of data in percent (just for checking differences in distributions):\n",
    "diffs = np.round(np.abs(test_data.mean(axis=0) - train_data.mean(axis=0)) / data_dict[\"all_data\"].mean(axis=0), 2)\n",
    "diffs"
   ]
  },
  {
   "cell_type": "code",
   "execution_count": null,
   "metadata": {},
   "outputs": [],
   "source": [
    "train_data.mean()"
   ]
  },
  {
   "cell_type": "markdown",
   "metadata": {},
   "source": [
    "## Decomposition / Dimensionality Reduction"
   ]
  },
  {
   "cell_type": "markdown",
   "metadata": {},
   "source": [
    "### Independent Component Analysis (ICA)"
   ]
  },
  {
   "cell_type": "code",
   "execution_count": null,
   "metadata": {},
   "outputs": [],
   "source": [
    "# reconstruct the Pandas df with labels\n",
    "df = pd.DataFrame(data_dict[\"all_data\"], columns=data_dict[\"data_names\"])\n",
    "# add back POD and POCD columns\n",
    "df['POD'] = data_dict[\"all_pod\"]\n",
    "df['POCD'] = data_dict[\"all_pocd\"]\n",
    "# separate data by sex:\n",
    "males, females = [x for _, x in df.groupby(df['sex'] == 1.0)]"
   ]
  },
  {
   "cell_type": "code",
   "execution_count": null,
   "metadata": {},
   "outputs": [],
   "source": [
    "def train_ica(data_frame):\n",
    "    # as ICA is stochastic, we fix the random_state to ensure reproducability\n",
    "    ica = FastICA(n_components=2, random_state=42) # defaults: max_iter=200, tol=1e-04\n",
    "    ica_embedding = ica.fit_transform(data_frame)\n",
    "    A_ = ica.mixing_  # Gets the estimated mixing matrix\n",
    "    return ica_embedding"
   ]
  },
  {
   "cell_type": "code",
   "execution_count": null,
   "metadata": {},
   "outputs": [],
   "source": [
    "def plot_ica(data_frame, marker_column):\n",
    "    ica_embedding = train_ica(data_frame)\n",
    "    return plot_embedding(ica_embedding, data_frame[marker_column], title=f\"ICA Embedding: {marker_column}\")"
   ]
  },
  {
   "cell_type": "code",
   "execution_count": null,
   "metadata": {},
   "outputs": [],
   "source": [
    "ica_pod_plot = plot_ica(df, \"POD\")"
   ]
  },
  {
   "cell_type": "code",
   "execution_count": null,
   "metadata": {},
   "outputs": [],
   "source": [
    "ica_pocd_plot = plot_ica(df, \"POCD\")"
   ]
  },
  {
   "cell_type": "markdown",
   "metadata": {},
   "source": [
    "#### Try some different ICA embeddings: divide by sex"
   ]
  },
  {
   "cell_type": "code",
   "execution_count": null,
   "metadata": {
    "scrolled": true
   },
   "outputs": [],
   "source": [
    "ica_pod_males_plot = plot_ica(males, \"POD\")"
   ]
  },
  {
   "cell_type": "code",
   "execution_count": null,
   "metadata": {},
   "outputs": [],
   "source": [
    "ica_pod_females_plot = plot_ica(females, \"POD\")"
   ]
  },
  {
   "cell_type": "code",
   "execution_count": null,
   "metadata": {},
   "outputs": [],
   "source": [
    "# save plots to disk\n",
    "ica_pod_plot.savefig(f\"{plots_dir}ICA_Embedding_POD.png\")\n",
    "ica_pocd_plot.savefig(f\"{plots_dir}ICA_Embedding_POCD.png\")\n",
    "ica_pod_males_plot.savefig(f\"{plots_dir}ICA_Embedding_POD_males.png\")\n",
    "ica_pod_females_plot.savefig(f\"{plots_dir}ICA_Embedding_POD_females.png\")"
   ]
  },
  {
   "cell_type": "markdown",
   "metadata": {},
   "source": [
    "### Try some training on PCA/UMAP embeddings"
   ]
  },
  {
   "cell_type": "code",
   "execution_count": null,
   "metadata": {},
   "outputs": [],
   "source": [
    "umapper = umap.UMAP(n_components=10)\n",
    "pca = PCA(n_components=28)\n",
    "reducer = pca\n",
    "\n",
    "pca_train_embedding = reducer.fit_transform(train_data)\n",
    "pca_test_embedding = reducer.transform(test_data)"
   ]
  },
  {
   "cell_type": "code",
   "execution_count": null,
   "metadata": {},
   "outputs": [],
   "source": [
    "pca.explained_variance_ratio_.sum() \n",
    "## 28 components explain 80% variance"
   ]
  },
  {
   "cell_type": "markdown",
   "metadata": {},
   "source": [
    "### RandomForestClassifier"
   ]
  },
  {
   "cell_type": "code",
   "execution_count": null,
   "metadata": {},
   "outputs": [],
   "source": [
    "clf = RandomForestClassifier(n_estimators=100)\n",
    "clf.fit(pca_train_embedding, train_pod)\n",
    "preds_train = clf.predict(pca_train_embedding)\n",
    "preds = clf.predict(pca_test_embedding)\n",
    "\n",
    "\n",
    "print((preds_train == train_pod).mean())\n",
    "print((preds == test_pod).mean())\n",
    "print(roc_auc_score(test_pod, preds))"
   ]
  },
  {
   "cell_type": "code",
   "execution_count": null,
   "metadata": {},
   "outputs": [],
   "source": [
    "clf = MLPClassifier(batch_size=32, hidden_layer_sizes=(512,))\n",
    "clf.fit(pca_train_embedding, train_pod)\n",
    "preds_train = clf.predict(pca_train_embedding)\n",
    "preds = clf.predict(pca_test_embedding)\n",
    "\n",
    "\n",
    "print((preds_train == train_pod).mean())\n",
    "print((preds == test_pod).mean())\n",
    "print(roc_auc_score(test_pod, preds))"
   ]
  },
  {
   "cell_type": "code",
   "execution_count": null,
   "metadata": {},
   "outputs": [],
   "source": [
    "clf = MLPClassifier(batch_size=32, hidden_layer_sizes=(128,), solver='lbfgs')\n",
    "clf.fit(data_dict[\"train_blood\"], train_pod)\n",
    "preds_train = clf.predict(data_dict[\"train_blood\"])\n",
    "preds = clf.predict(data_dict[\"test_blood\"])\n",
    "\n",
    "\n",
    "print((preds_train == train_pod).mean())\n",
    "print((preds == test_pod).mean())\n",
    "print(roc_auc_score(test_pod, preds))"
   ]
  },
  {
   "cell_type": "markdown",
   "metadata": {},
   "source": [
    "### Investigate PCA:"
   ]
  },
  {
   "cell_type": "code",
   "execution_count": null,
   "metadata": {},
   "outputs": [],
   "source": [
    "pca = PCA(n_components=None)\n",
    "pca_train_embedding = pca.fit_transform(train_data)\n",
    "pca_test_embedding = pca.transform(test_data)\n",
    "var=np.cumsum(np.round(pca.explained_variance_ratio_, decimals=3)*100)\n",
    "\n",
    "plt.figure().patch.set_color('white')\n",
    "plt.plot(var, color='#387387')\n",
    "\n",
    "plt.ylabel('% Variance Explained')\n",
    "plt.xlabel('# of Features')\n",
    "plt.title('PCA Analysis')\n",
    "plt.ylim(30,100.5)\n",
    "#plt.style.context('seaborn-whitegrid')\n",
    "\n",
    "ax = plt.gca()\n",
    "ax.set_facecolor('white')\n",
    "ax.spines['left'].set_color('#25404B')\n",
    "ax.spines['bottom'].set_color('#25404B')\n",
    "ax.tick_params(axis='x', colors='#25404B')\n",
    "ax.tick_params(axis='y', colors='#25404B')\n",
    "ax.yaxis.label.set_color('#25404B')\n",
    "ax.xaxis.label.set_color('#25404B')\n",
    "ax.title.set_color('#25404B')\n",
    "ax.xaxis.set_ticks(np.arange(0, 100, 10))\n",
    "\n",
    "#print(sorted(pca.explained_variance_ratio_))"
   ]
  },
  {
   "cell_type": "code",
   "execution_count": null,
   "metadata": {},
   "outputs": [],
   "source": [
    "pca_train_embedding"
   ]
  },
  {
   "cell_type": "code",
   "execution_count": null,
   "metadata": {},
   "outputs": [],
   "source": [
    "# Pick the first 28 components because they explain the most variance:\n",
    "components = pca.components_[:28]"
   ]
  },
  {
   "cell_type": "code",
   "execution_count": null,
   "metadata": {},
   "outputs": [],
   "source": [
    "sns.heatmap(components.T)"
   ]
  },
  {
   "cell_type": "code",
   "execution_count": null,
   "metadata": {},
   "outputs": [],
   "source": [
    "components[np.abs(components) < 0.2] = 0\n",
    "#components[np.abs(components) > 0.1] = 1"
   ]
  },
  {
   "cell_type": "code",
   "execution_count": null,
   "metadata": {},
   "outputs": [],
   "source": [
    "sns.heatmap(components.T)"
   ]
  },
  {
   "cell_type": "code",
   "execution_count": null,
   "metadata": {},
   "outputs": [],
   "source": [
    "important_features = set()\n",
    "for comp in components:\n",
    "    names = data_dict[\"data_names\"][np.abs(comp) > 0.1]\n",
    "    print(names)\n",
    "    important_features.update(names)\n",
    "    print()"
   ]
  },
  {
   "cell_type": "code",
   "execution_count": null,
   "metadata": {},
   "outputs": [],
   "source": [
    "important_features"
   ]
  },
  {
   "cell_type": "code",
   "execution_count": null,
   "metadata": {},
   "outputs": [],
   "source": [
    "data_dict[\"data_names\"][np.abs(components[0]) > 0.1]"
   ]
  },
  {
   "cell_type": "code",
   "execution_count": null,
   "metadata": {},
   "outputs": [],
   "source": [
    "data_dict[\"data_names\"][np.abs(components[1]) > 0.1]"
   ]
  },
  {
   "cell_type": "code",
   "execution_count": null,
   "metadata": {},
   "outputs": [],
   "source": [
    "plt.plot(sorted(components[2]))"
   ]
  },
  {
   "cell_type": "markdown",
   "metadata": {},
   "source": [
    "## PCA+UMAP"
   ]
  },
  {
   "cell_type": "code",
   "execution_count": null,
   "metadata": {},
   "outputs": [],
   "source": [
    "pca = PCA(n_components=28)\n",
    "pca_train_embedding = pca.fit_transform(data_dict[\"train_blood\"])\n",
    "pca_test_embedding = pca.transform(data_dict[\"test_blood\"])\n",
    "\n",
    "umapper = umap.UMAP(n_components=2, n_neighbors=15, min_dist=0.01)\n",
    "#train_labels = train_data[:, list(static_names).index(\"MMSE\")] # Can be train_pod, None or e.g.: test_data[:, list(static_names).index(\"MMSE\")]\n",
    "#train_labels = train_labels > np.median(train_labels) # binarize\n",
    "train_embedding = umapper.fit_transform(pca_train_embedding)\n",
    "test_embedding = umapper.transform(pca_test_embedding)"
   ]
  },
  {
   "cell_type": "code",
   "execution_count": null,
   "metadata": {},
   "outputs": [],
   "source": [
    "plot_embedding(pca_train_embedding[:,:2], train_pod, \"Train Data PCA\")"
   ]
  },
  {
   "cell_type": "code",
   "execution_count": null,
   "metadata": {},
   "outputs": [],
   "source": [
    "plot_embedding(train_embedding, train_pod, \"Train Data - POD\", color_scheme=\"light\")"
   ]
  },
  {
   "cell_type": "code",
   "execution_count": null,
   "metadata": {},
   "outputs": [],
   "source": [
    "plot_embedding(test_embedding, test_pod, \"Test Data - POD\", color_scheme=\"light\")"
   ]
  },
  {
   "cell_type": "code",
   "execution_count": null,
   "metadata": {},
   "outputs": [],
   "source": [
    "print(data_dict[\"static_names\"])\n",
    "feature = \"MMSE\"\n",
    "labels = test_data[:, list(data_dict[\"static_names\"]).index(feature)]\n",
    "print(\"Median: \", np.median(labels))\n",
    "#print(np.unique(labels))\n",
    "labels = labels > np.median(labels)\n",
    "plot_embedding(test_embedding, labels, \"Test Data - \" + feature, color_scheme=\"light\")"
   ]
  },
  {
   "cell_type": "markdown",
   "metadata": {},
   "source": [
    "## UMAP"
   ]
  },
  {
   "cell_type": "code",
   "execution_count": null,
   "metadata": {},
   "outputs": [],
   "source": [
    "len(train_data)"
   ]
  },
  {
   "cell_type": "code",
   "execution_count": null,
   "metadata": {},
   "outputs": [],
   "source": [
    "umapper = umap.UMAP(n_components=2, n_neighbors=15, min_dist=0.01)\n",
    "train_labels = train_data[:, list(data_dict[\"static_names\"]).index(\"MMSE\")] # Can be train_pod, None or e.g.: test_data[:, list(static_names).index(\"MMSE\")]\n",
    "train_labels = train_labels > np.median(train_labels) # binarize\n",
    "\n",
    "train_embedding = umapper.fit_transform(train_data)\n",
    "test_embedding = umapper.transform(test_data)"
   ]
  },
  {
   "cell_type": "code",
   "execution_count": null,
   "metadata": {},
   "outputs": [],
   "source": [
    "plot_embedding(train_embedding, train_pod, \"Train Data\")"
   ]
  },
  {
   "cell_type": "code",
   "execution_count": null,
   "metadata": {},
   "outputs": [],
   "source": [
    "print(data_dict[\"static_names\"])\n",
    "labels = train_data[:, list(data_dict[\"static_names\"]).index(\"MMSE\")]\n",
    "print(\"Median: \", np.median(labels))\n",
    "#print(np.unique(labels))\n",
    "labels = labels > np.median(labels)\n",
    "plot_embedding(train_embedding, labels, \"Train Data\")"
   ]
  },
  {
   "cell_type": "markdown",
   "metadata": {},
   "source": [
    "### Test data"
   ]
  },
  {
   "cell_type": "code",
   "execution_count": null,
   "metadata": {},
   "outputs": [],
   "source": [
    "plot_embedding(test_embedding, test_pod, \"Test Data\")"
   ]
  },
  {
   "cell_type": "code",
   "execution_count": null,
   "metadata": {},
   "outputs": [],
   "source": [
    "print(data_dict[\"static_names\"])\n",
    "labels = test_data[:, list(data_dict[\"static_names\"]).index(\"MMSE\")]\n",
    "print(\"Median: \", np.median(labels))\n",
    "#print(np.unique(labels))\n",
    "labels = labels > np.median(labels)\n",
    "plot_embedding(test_embedding, labels, \"Test Data\")"
   ]
  },
  {
   "cell_type": "code",
   "execution_count": null,
   "metadata": {},
   "outputs": [],
   "source": [
    "clf = RandomForestClassifier(n_estimators=1000)\n",
    "clf.fit(train_embedding, train_pod)\n",
    "preds = clf.predict(test_embedding)\n",
    "print((preds == test_pod).mean())\n",
    "print(roc_auc_score(test_pod, preds))"
   ]
  },
  {
   "cell_type": "markdown",
   "metadata": {},
   "source": [
    "## Basic RF classification tests:"
   ]
  },
  {
   "cell_type": "code",
   "execution_count": null,
   "metadata": {},
   "outputs": [],
   "source": [
    "weights = class_weight={0: 1 - train_pod.mean(),1: train_pod.mean()}\n",
    "clf = RandomForestClassifier(n_estimators=1000, class_weight=weights)\n",
    "clf.fit(train_data, train_pod)"
   ]
  },
  {
   "cell_type": "code",
   "execution_count": null,
   "metadata": {},
   "outputs": [],
   "source": [
    "preds = clf.predict(test_data)\n",
    "print((preds == test_pod).mean())\n",
    "print(roc_auc_score(test_pod, preds))"
   ]
  },
  {
   "cell_type": "code",
   "execution_count": null,
   "metadata": {},
   "outputs": [],
   "source": [
    "zipped = zip(clf.feature_importances_, data_dict[\"data_names\"])"
   ]
  },
  {
   "cell_type": "code",
   "execution_count": null,
   "metadata": {},
   "outputs": [],
   "source": [
    "sorted_feats = sorted(zipped, key=lambda x: x[0], reverse=True)"
   ]
  },
  {
   "cell_type": "code",
   "execution_count": null,
   "metadata": {},
   "outputs": [],
   "source": [
    "plt.plot(sorted(clf.feature_importances_))\n",
    "plt.ylim(0, 0.02)"
   ]
  },
  {
   "cell_type": "code",
   "execution_count": null,
   "metadata": {},
   "outputs": [],
   "source": [
    "sorted_feats[:15]"
   ]
  },
  {
   "cell_type": "code",
   "execution_count": null,
   "metadata": {},
   "outputs": [],
   "source": [
    "sorted_feats[-10:]"
   ]
  },
  {
   "cell_type": "code",
   "execution_count": null,
   "metadata": {},
   "outputs": [],
   "source": [
    "best_feats = [feat[1] for feat in sorted_feats if feat[0] > 0.014]\n",
    "best_feats"
   ]
  },
  {
   "cell_type": "code",
   "execution_count": null,
   "metadata": {},
   "outputs": [],
   "source": [
    "idcs = [list(data_dict[\"data_names\"]).index(feat) for feat in best_feats]\n",
    "idcs"
   ]
  },
  {
   "cell_type": "code",
   "execution_count": null,
   "metadata": {},
   "outputs": [],
   "source": [
    "train_pod.shape"
   ]
  },
  {
   "cell_type": "code",
   "execution_count": null,
   "metadata": {},
   "outputs": [],
   "source": [
    "weights = None#class_weight={0: 1 - train_pod.mean(), 1: train_pod.mean()}\n",
    "clf = RandomForestClassifier(n_estimators=1000, class_weight=weights)\n",
    "clf.fit(train_data[:, idcs], train_pod)"
   ]
  },
  {
   "cell_type": "code",
   "execution_count": null,
   "metadata": {},
   "outputs": [],
   "source": [
    "train_preds = clf.predict(train_data[:, idcs])\n",
    "preds = clf.predict(test_data[:, idcs])\n",
    "print(\"Train metrics:\")\n",
    "print((train_preds == train_pod).mean())\n",
    "print(\"Test metrics:\")\n",
    "print((preds == test_pod).mean())\n",
    "print(roc_auc_score(test_pod, preds))\n",
    "print(classification_report(test_pod, preds))"
   ]
  },
  {
   "cell_type": "code",
   "execution_count": null,
   "metadata": {},
   "outputs": [],
   "source": [
    "1 - np.mean(test_pod)"
   ]
  },
  {
   "cell_type": "code",
   "execution_count": null,
   "metadata": {},
   "outputs": [],
   "source": [
    "1 - np.mean(train_pod)"
   ]
  },
  {
   "cell_type": "markdown",
   "metadata": {},
   "source": [
    "## Under sampled training:"
   ]
  },
  {
   "cell_type": "code",
   "execution_count": null,
   "metadata": {},
   "outputs": [],
   "source": [
    "pod_neg_idcs = np.where(train_pod == 0)[0]\n",
    "len(pod_neg_idcs)"
   ]
  },
  {
   "cell_type": "code",
   "execution_count": null,
   "metadata": {},
   "outputs": [],
   "source": [
    "pod_pos_idcs = np.where(train_pod == 1)[0]"
   ]
  },
  {
   "cell_type": "code",
   "execution_count": null,
   "metadata": {},
   "outputs": [],
   "source": [
    "rands = np.random.randint(0, len(pod_neg_idcs), len(pod_pos_idcs))"
   ]
  },
  {
   "cell_type": "code",
   "execution_count": null,
   "metadata": {},
   "outputs": [],
   "source": [
    "idcs = pod_neg_idcs[rands]"
   ]
  },
  {
   "cell_type": "code",
   "execution_count": null,
   "metadata": {},
   "outputs": [],
   "source": [
    "all_idcs = list(idcs) + list(pod_pos_idcs)"
   ]
  },
  {
   "cell_type": "code",
   "execution_count": null,
   "metadata": {},
   "outputs": [],
   "source": [
    "balanced_train_data = train_data[all_idcs]"
   ]
  },
  {
   "cell_type": "code",
   "execution_count": null,
   "metadata": {},
   "outputs": [],
   "source": [
    "clf = RandomForestClassifier(n_estimators=1000)\n",
    "clf.fit(train_data[all_idcs], train_pod[all_idcs])"
   ]
  },
  {
   "cell_type": "code",
   "execution_count": null,
   "metadata": {},
   "outputs": [],
   "source": [
    "preds = clf.predict(test_data)\n",
    "print((preds == test_pod).mean())\n",
    "print(roc_auc_score(test_pod, preds))\n",
    "print(classification_report(test_pod, preds))"
   ]
  }
 ],
 "metadata": {
  "kernelspec": {
   "display_name": "Python 3",
   "language": "python",
   "name": "python3"
  },
  "language_info": {
   "codemirror_mode": {
    "name": "ipython",
    "version": 3
   },
   "file_extension": ".py",
   "mimetype": "text/x-python",
   "name": "python",
   "nbconvert_exporter": "python",
   "pygments_lexer": "ipython3",
   "version": "3.7.7"
  }
 },
 "nbformat": 4,
 "nbformat_minor": 4
}
