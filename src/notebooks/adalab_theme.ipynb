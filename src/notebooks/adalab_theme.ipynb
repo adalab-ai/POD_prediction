{
 "cells": [
  {
   "cell_type": "code",
   "execution_count": null,
   "metadata": {},
   "outputs": [],
   "source": [
    "import numpy as np\n",
    "import seaborn as sns\n",
    "import matplotlib\n",
    "import matplotlib.pyplot as plt\n",
    "from matplotlib.colors import ListedColormap\n",
    "# Add parent folder to syspath to include local util functions\n",
    "sys.path.insert(0, os.path.abspath('..'))\n",
    "from utils.load_data_utils import load_data\n",
    "from utils.plot_utils import plot_embedding"
   ]
  },
  {
   "cell_type": "markdown",
   "metadata": {},
   "source": [
    "# AdaLab Seaborn Theme\n",
    "\n",
    "This Notebook's aim is to exhibit the AdaLab customized theme and color palette, plus how to use it e.g. in milestone reports.\n",
    "\n",
    "Seaborn already comes with a number of great and smartly designed [themes](https://seaborn.pydata.org/tutorial/aesthetics.html) - this should suffice most of the times. \n",
    "However, to facilitate corporate branding and \n",
    "Keep in mind, that there is no 'one fits it all' solution to visualization: the ideal it highly depends on your data."
   ]
  },
  {
   "cell_type": "code",
   "execution_count": null,
   "metadata": {},
   "outputs": [],
   "source": [
    "# We will use a sample function to plot\n",
    "def sinplot(flip=1):\n",
    "    x = np.linspace(0, 14, 100)\n",
    "    for i in range(1, 7):\n",
    "        plt.plot(x, np.sin(x + i * .5) * (7 - i) * flip)"
   ]
  },
  {
   "cell_type": "code",
   "execution_count": null,
   "metadata": {},
   "outputs": [],
   "source": [
    "# Normally this looks ok, but rather boring\n",
    "sinplot()"
   ]
  },
  {
   "cell_type": "code",
   "execution_count": null,
   "metadata": {},
   "outputs": [],
   "source": [
    "# Nicer with the default seaborn theme ('darkgrid')\n",
    "sns.set()\n",
    "sinplot()"
   ]
  },
  {
   "cell_type": "markdown",
   "metadata": {},
   "source": [
    "## Color Palettes\n",
    "\n",
    "Luckily, both seaborn and matplotlib allow to adjust the [color schemes](https://seaborn.pydata.org/tutorial/color_palettes.html) both gloablly as well as on an individual plot level."
   ]
  },
  {
   "cell_type": "code",
   "execution_count": null,
   "metadata": {},
   "outputs": [],
   "source": [
    "# Plot the current color palette\n",
    "current_palette = sns.color_palette()\n",
    "sns.palplot(current_palette)"
   ]
  },
  {
   "cell_type": "code",
   "execution_count": null,
   "metadata": {},
   "outputs": [],
   "source": [
    "# Create an array with the colors you want to use\n",
    "colors = [\"#0073EE\", \"#FFBF15\", \"#64D488\", \"#C52230\", \"#A222C7\"]\n",
    "# Custom color palette\n",
    "custom_palette = sns.color_palette(colors)\n",
    "sns.palplot(custom_palette)"
   ]
  },
  {
   "cell_type": "code",
   "execution_count": null,
   "metadata": {},
   "outputs": [],
   "source": [
    "# Convert to a plt cmap\n",
    "custom_cmap = ListedColormap(custom_palette)"
   ]
  },
  {
   "cell_type": "code",
   "execution_count": null,
   "metadata": {},
   "outputs": [],
   "source": [
    "# Provide the custom palette \n",
    "# ax = sns.scatterplot(x='day', y='miles_walked', data=dataset, hue='day_category', palette=customPalette)"
   ]
  },
  {
   "cell_type": "code",
   "execution_count": null,
   "metadata": {},
   "outputs": [],
   "source": [
    "# Define a scoped style using a `within` block:\n",
    "with sns.axes_style(\"white\"):\n",
    "    # uses the style\n",
    "    sinplot()"
   ]
  },
  {
   "cell_type": "code",
   "execution_count": null,
   "metadata": {},
   "outputs": [],
   "source": [
    "# but here not anymore\n",
    "sinplot()"
   ]
  },
  {
   "cell_type": "code",
   "execution_count": null,
   "metadata": {},
   "outputs": [],
   "source": [
    "# Or set it globally to use it across all the subsequent plots\n",
    "sns.set_palette(custom_palette)\n",
    "# white, dark, whitegrid, darkgrid, ticks\n",
    "with sns.axes_style(\"darkgrid\"):\n",
    "    sinplot()"
   ]
  },
  {
   "cell_type": "markdown",
   "metadata": {},
   "source": [
    "## Plotting Context\n",
    "\n",
    "The plotting context is orthogonal to the plotting style, scaling the size of the labels, lines, and other elements of the plot, but does not change the overall style.\n",
    "Predefined contexts are  `{paper, notebook, talk, poster}`, with `notebook` being the default."
   ]
  },
  {
   "cell_type": "code",
   "execution_count": null,
   "metadata": {},
   "outputs": [],
   "source": [
    "sns.plotting_context(\"paper\")"
   ]
  },
  {
   "cell_type": "code",
   "execution_count": null,
   "metadata": {},
   "outputs": [],
   "source": [
    "sns.set_context(\"paper\")"
   ]
  },
  {
   "cell_type": "markdown",
   "metadata": {},
   "source": [
    "## rcParams\n",
    "\n",
    "Lastly we can fine-tune the underlying [matplotlibrc configuration properties](https://matplotlib.org/3.1.1/tutorials/introductory/customizing.html)."
   ]
  },
  {
   "cell_type": "code",
   "execution_count": null,
   "metadata": {},
   "outputs": [],
   "source": [
    "# Print the directory of the conf files\n",
    "matplotlib.matplotlib_fname()"
   ]
  }
 ],
 "metadata": {
  "kernelspec": {
   "display_name": "Python 3",
   "language": "python",
   "name": "python3"
  },
  "language_info": {
   "codemirror_mode": {
    "name": "ipython",
    "version": 3
   },
   "file_extension": ".py",
   "mimetype": "text/x-python",
   "name": "python",
   "nbconvert_exporter": "python",
   "pygments_lexer": "ipython3",
   "version": "3.7.7"
  }
 },
 "nbformat": 4,
 "nbformat_minor": 4
}
