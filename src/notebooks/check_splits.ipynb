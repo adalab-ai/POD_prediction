{
 "metadata": {
  "language_info": {
   "codemirror_mode": {
    "name": "ipython",
    "version": 3
   },
   "file_extension": ".py",
   "mimetype": "text/x-python",
   "name": "python",
   "nbconvert_exporter": "python",
   "pygments_lexer": "ipython3",
   "version": "3.8.2-final"
  },
  "orig_nbformat": 2,
  "kernelspec": {
   "name": "python36964bitpharmenvvenv81b1c998f3a049c792cb4cfc384bcfa0",
   "display_name": "Python 3.6.9 64-bit ('pharm_env': venv)"
  }
 },
 "nbformat": 4,
 "nbformat_minor": 2,
 "cells": [
  {
   "cell_type": "code",
   "execution_count": null,
   "metadata": {},
   "outputs": [],
   "source": [
    "import numpy as np\n",
    "import pandas as pd"
   ]
  },
  {
   "cell_type": "code",
   "execution_count": null,
   "metadata": {
    "tags": []
   },
   "outputs": [],
   "source": [
    "df_1 = pd.read_pickle(\"/home/angelie/Documents/AdaLab/pharmaimage/data/yeo_Y/z/median/uni_clip_0.9999/multi_clip_N/df.pkl\")\n",
    "dev = np.load(\"/home/angelie/Documents/AdaLab/pharmaimage/data/yeo_Y/z/median/uni_clip_0.9999/multi_clip_N/dev_idcs.npy\")\n",
    "dev_df = df_1.iloc[dev]\n",
    "dev_df"
   ]
  },
  {
   "cell_type": "code",
   "execution_count": null,
   "metadata": {},
   "outputs": [],
   "source": [
    "df_1"
   ]
  },
  {
   "cell_type": "code",
   "execution_count": null,
   "metadata": {},
   "outputs": [],
   "source": [
    "df = pd.read_pickle(\"/home/angelie/Documents/AdaLab/pharmaimage/data/yeo_N/z/median/uni_clip_0.9999/multi_clip_Y/df.pkl\")\n",
    "dev_multi = np.load(\"/home/angelie/Documents/AdaLab/pharmaimage/data/yeo_N/z/median/uni_clip_0.9999/multi_clip_Y/dev_idcs.npy\")\n",
    "dev_df_multi_clip = df.iloc[dev_multi]\n",
    "dev_df_multi_clip"
   ]
  },
  {
   "cell_type": "code",
   "execution_count": null,
   "metadata": {},
   "outputs": [],
   "source": [
    "df"
   ]
  },
  {
   "cell_type": "code",
   "execution_count": null,
   "metadata": {},
   "outputs": [],
   "source": [
    "test_idcs = ~df_1.index.isin(dev)\n",
    "test_df = df_1.iloc[test_idcs]\n",
    "test_df"
   ]
  },
  {
   "cell_type": "code",
   "execution_count": null,
   "metadata": {},
   "outputs": [],
   "source": [
    "def explore(train_data, test_data, soft_threshold=0.2):\n",
    "    diffs = np.array(np.abs(test_data.mean(axis=0) - train_data.mean(axis=0))) / np.abs(train_data.mean(axis=0))\n",
    "    max_diff = max(diffs)\n",
    "    print(\"first: \", np.abs(test_data.mean(axis=0) - train_data.mean(axis=0)))\n",
    "    print(test_data.mean().mean(), train_data.mean().mean(), df.mean().mean())\n",
    "    print(train_data.columns[diffs > soft_threshold])\n",
    "    print(list(np.round(diffs[diffs > soft_threshold], 2)))\n",
    "    print(\"Mean train data: \\n\", train_data.mean(), \"\\n\\nMean test data: \\n\", test_data.mean())\n",
    "    print(\"Mean deviation: \", np.mean(diffs), \"Max deviation:\", max_diff)\n"
   ]
  },
  {
   "cell_type": "code",
   "execution_count": null,
   "metadata": {
    "tags": []
   },
   "outputs": [],
   "source": [
    "explore(dev_df, test_df)"
   ]
  },
  {
   "cell_type": "code",
   "execution_count": null,
   "metadata": {},
   "outputs": [],
   "source": []
  }
 ]
}