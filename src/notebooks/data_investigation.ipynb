{
 "cells": [
  {
   "cell_type": "code",
   "execution_count": null,
   "metadata": {},
   "outputs": [],
   "source": [
    "import os\n",
    "import sys\n",
    "\n",
    "import math\n",
    "import pandas as pd\n",
    "import matplotlib.pyplot as plt\n",
    "import umap.plot\n",
    "import bokeh\n",
    "\n",
    "# Add parent folder to syspath to include local util functions\n",
    "sys.path.insert(0, os.path.abspath('..'))\n",
    "from utils.plot_utils import plot_hist"
   ]
  },
  {
   "cell_type": "markdown",
   "metadata": {},
   "source": [
    "# Very basic processing:"
   ]
  },
  {
   "cell_type": "code",
   "execution_count": null,
   "metadata": {},
   "outputs": [],
   "source": [
    "data_dir = '../../data/'\n",
    "plots_dir = '../../plots/'\n",
    "\n",
    "# Read data:\n",
    "df = pd.read_excel(data_dir + \"blutdaten.xlsx\")\n",
    "df"
   ]
  },
  {
   "cell_type": "code",
   "execution_count": null,
   "metadata": {},
   "outputs": [],
   "source": [
    "# Make nameing uniform by having each T1 variable start by \"T1_*\" instead of some starting with \"T1*\":\n",
    "cols = list(df.columns)\n",
    "def rename_start(name):\n",
    "    if name[:2] == \"T1\" and name[2] != \"_\":\n",
    "        name = \"T1_\" + name[2:]\n",
    "    return name\n",
    "df = df.rename(rename_start, axis=1)"
   ]
  },
  {
   "cell_type": "code",
   "execution_count": null,
   "metadata": {},
   "outputs": [],
   "source": [
    "# Replace NULL string by NANs:\n",
    "df = df.replace(\"#NULL!\", math.nan)"
   ]
  },
  {
   "cell_type": "code",
   "execution_count": null,
   "metadata": {},
   "outputs": [],
   "source": [
    "# Drop data points where we have no target:\n",
    "print(\"Data points without POD: \", df[\"POD\"].isna().sum())\n",
    "df = df.dropna(subset=[\"POD\"])"
   ]
  },
  {
   "cell_type": "code",
   "execution_count": null,
   "metadata": {},
   "outputs": [],
   "source": [
    "# Set male to 0 and female to 1:\n",
    "print(df[\"sex\"].unique())\n",
    "df.loc[df[\"sex\"] == \"male\", \"sex\"] = 0\n",
    "df.loc[df[\"sex\"] == \"female\", \"sex\"] = 1\n",
    "print(df[\"sex\"].unique())"
   ]
  },
  {
   "cell_type": "markdown",
   "metadata": {},
   "source": [
    "# Looking at weird values:"
   ]
  },
  {
   "cell_type": "code",
   "execution_count": null,
   "metadata": {},
   "outputs": [],
   "source": [
    "NTproBNP = df.loc[:,df.columns.str.contains(\"NTproBNP\")]\n",
    "print(\"min_vals\\n\", NTproBNP.min(), \"\\nmax_vals\\n\", NTproBNP.max())\n",
    "print(NTproBNP.info())"
   ]
  },
  {
   "cell_type": "code",
   "execution_count": null,
   "metadata": {},
   "outputs": [],
   "source": [
    "Troponin = df.loc[:,df.columns.str.contains(\"Troponin\")]\n",
    "print(\"min_vals\\n\", Troponin.min(), \"\\nmax_vals\\n\", Troponin.max())\n",
    "print(Troponin.info())"
   ]
  },
  {
   "cell_type": "code",
   "execution_count": null,
   "metadata": {},
   "outputs": [],
   "source": [
    "UnreifeGranulozyten = df.loc[:,df.columns.str.contains(\"UnreifeGranulozyten\")]\n",
    "print(\"min_vals\\n\", UnreifeGranulozyten.min(), \"\\nmax_vals\\n\", UnreifeGranulozyten.max())\n",
    "print(UnreifeGranulozyten.info())\n",
    "\n",
    "## All non-pathological values! (bc. <10%)"
   ]
  },
  {
   "cell_type": "code",
   "execution_count": null,
   "metadata": {},
   "outputs": [],
   "source": [
    "IL6 = df.loc[:,df.columns.str.contains(\"IL6\")]\n",
    "print(\"min_vals\\n\", IL6.min(), \"\\nmax_vals\\n\", IL6.max())\n",
    "print(IL6.info())"
   ]
  },
  {
   "cell_type": "code",
   "execution_count": null,
   "metadata": {},
   "outputs": [],
   "source": [
    "SORL1 = df.loc[:,df.columns.str.contains(\"SORL1\")]\n",
    "print(\"min_vals\\n\", SORL1.min(), \"\\nmax_vals\\n\", SORL1.max())\n",
    "print(SORL1.info())"
   ]
  },
  {
   "cell_type": "code",
   "execution_count": null,
   "metadata": {},
   "outputs": [],
   "source": [
    "Leptin = df.loc[:,df.columns.str.contains(\"Leptin_Lab\")]\n",
    "print(\"min_vals\\n\", Leptin.min(), \"\\nmax_vals\\n\", Leptin.max())\n",
    "print(Leptin.info())"
   ]
  },
  {
   "cell_type": "markdown",
   "metadata": {},
   "source": [
    "# Histograms:"
   ]
  },
  {
   "cell_type": "code",
   "execution_count": null,
   "metadata": {},
   "outputs": [],
   "source": [
    "# Plot histograms:\n",
    "plot_hist(df, plots_dir=plots_dir)"
   ]
  },
  {
   "cell_type": "code",
   "execution_count": null,
   "metadata": {},
   "outputs": [],
   "source": [
    "# Check for negative values:\n",
    "df.min()[df.min() < 0]"
   ]
  },
  {
   "cell_type": "code",
   "execution_count": null,
   "metadata": {},
   "outputs": [],
   "source": [
    "# All values == 0...\n",
    "# Therefore filter it out\n",
    "print(df[\"T1_Erythroblasten_Percent\"].describe())\n",
    "df = df.drop(columns=[\"T1_Erythroblasten_Percent\"])"
   ]
  },
  {
   "cell_type": "code",
   "execution_count": null,
   "metadata": {},
   "outputs": [],
   "source": [
    "# Weird distribution for T1_ALAT_GPT_U_L -> outliers?\n",
    "print(df[\"T1_ALAT_GPT_U_L\"].describe())\n",
    "df[\"T1_ALAT_GPT_U_L\"].hist()\n",
    "plt.title(\"All of T1_ALAT_GPT_U_L\")\n",
    "plt.show()\n",
    "df.loc[df[\"T1_ALAT_GPT_U_L\"] < 200 ,\"T1_ALAT_GPT_U_L\"].hist()\n",
    "plt.title(\"T1_ALAT_GPT_U_L < 200\")"
   ]
  },
  {
   "cell_type": "code",
   "execution_count": null,
   "metadata": {},
   "outputs": [],
   "source": [
    "# Weird distribution for T1_ASAT_GOT_U_L -> outliers?\n",
    "print(df[\"T1_ASAT_GOT_U_L\"].describe())\n",
    "df[\"T1_ASAT_GOT_U_L\"].hist()\n",
    "plt.title(\"All of T1_ASAT_GOT_U_L\")\n",
    "plt.show()\n",
    "df.loc[df[\"T1_ASAT_GOT_U_L\"] < 200 ,\"T1_ASAT_GOT_U_L\"].hist()\n",
    "plt.title(\"T1_ASAT_GOT_U_L < 200\")"
   ]
  },
  {
   "cell_type": "markdown",
   "metadata": {},
   "source": [
    "Conclusion: \n",
    "- T1_Erythroblasten_Percent was dropped as all values are 0\n",
    "- T1_ALAT_GPT_U_L has some very large values that might not be realistic\n",
    "- T1_ASAT_GOT_U_L has some very large values that might not be realistic"
   ]
  },
  {
   "cell_type": "markdown",
   "metadata": {},
   "source": [
    "# Investigating NANs:"
   ]
  },
  {
   "cell_type": "code",
   "execution_count": null,
   "metadata": {},
   "outputs": [],
   "source": [
    "missing = df.isna()"
   ]
  },
  {
   "cell_type": "code",
   "execution_count": null,
   "metadata": {},
   "outputs": [],
   "source": [
    "missing.mean().sort_values(ascending=False)"
   ]
  },
  {
   "cell_type": "markdown",
   "metadata": {},
   "source": [
    "Conclusion: \n",
    "- IL10, T1_eGFR, T1_IL18_pgml_Boraschi, T1_Reticulated_Platelets_Percent have all very high missing percent ->Is that realistic?"
   ]
  },
  {
   "cell_type": "markdown",
   "metadata": {},
   "source": [
    "# Outlier analysis"
   ]
  },
  {
   "cell_type": "code",
   "execution_count": null,
   "metadata": {},
   "outputs": [],
   "source": [
    "filled_X = df.fillna(df.mean())\n",
    "Y = filled_X[\"POD\"]\n",
    "Y_2 = filled_X[\"POCD_dichotomous_T2\"]\n",
    "X = filled_X.drop(columns=[\"POD\", \"POCD_dichotomous_T2\"])"
   ]
  },
  {
   "cell_type": "markdown",
   "metadata": {},
   "source": [
    "## Unsupervised UMAP:"
   ]
  },
  {
   "cell_type": "code",
   "execution_count": null,
   "metadata": {},
   "outputs": [],
   "source": [
    "# Calc UMAP:\n",
    "reducer = umap.UMAP(set_op_mix_ratio=0.25)\n",
    "embedded = reducer.fit_transform(X)#, Y)"
   ]
  },
  {
   "cell_type": "code",
   "execution_count": null,
   "metadata": {},
   "outputs": [],
   "source": [
    "# Apply LOF on UMAP embeddings:\n",
    "from sklearn.neighbors import LocalOutlierFactor\n",
    "clf = LocalOutlierFactor(contamination=0.01)\n",
    "y_pred = clf.fit_predict(embedded)\n",
    "X_scores = clf.negative_outlier_factor_\n",
    "outliers_UMAP = y_pred == -1\n",
    "df[outliers_UMAP]"
   ]
  },
  {
   "cell_type": "code",
   "execution_count": null,
   "metadata": {},
   "outputs": [],
   "source": [
    "# Outliers calculated on UMAP:\n",
    "p = umap.plot.points(reducer, labels=outliers_UMAP, values=None, theme='fire')\n",
    "plt.title(\"Outliers calculated on UMAP embeddings. Coloring=Marked as outlier\")\n",
    "fig = p.get_figure()\n",
    "fig.savefig(plots_dir + \"UMAP_outliers.pdf\")"
   ]
  },
  {
   "cell_type": "code",
   "execution_count": null,
   "metadata": {},
   "outputs": [],
   "source": [
    "# Performance for POD prediction:\n",
    "p = umap.plot.points(reducer, labels=Y, values=None, theme='fire')\n",
    "plt.title(\"UMAP embedding. Coloring=POD\")\n",
    "fig = p.get_figure()\n",
    "fig.savefig(plots_dir + \"UMAP_POD.pdf\")"
   ]
  },
  {
   "cell_type": "markdown",
   "metadata": {},
   "source": [
    "## Supervised UMAP"
   ]
  },
  {
   "cell_type": "code",
   "execution_count": null,
   "metadata": {},
   "outputs": [],
   "source": [
    "# Supervised UMAP:\n",
    "# Calc UMAP:\n",
    "reducer = umap.UMAP(set_op_mix_ratio=0.25)\n",
    "embedded = reducer.fit_transform(X, Y)"
   ]
  },
  {
   "cell_type": "code",
   "execution_count": null,
   "metadata": {},
   "outputs": [],
   "source": [
    "# Apply LOF on the supervised UMAP embeddings:\n",
    "y_pred = clf.fit_predict(embedded)\n",
    "X_scores = clf.negative_outlier_factor_\n",
    "outliers_UMAP = y_pred == -1\n",
    "df[outliers_UMAP]"
   ]
  },
  {
   "cell_type": "code",
   "execution_count": null,
   "metadata": {},
   "outputs": [],
   "source": [
    "# Outliers calculated on supervised UMAP:\n",
    "p = umap.plot.points(reducer, labels=outliers_UMAP, values=None, theme='fire')\n",
    "plt.title(\"Outliers calculated on supervised UMAP embeddings. Coloring=Marked as outlier\")\n",
    "fig = p.get_figure()\n",
    "fig.savefig(plots_dir + \"UMAP_outliers_superised.pdf\")"
   ]
  },
  {
   "cell_type": "code",
   "execution_count": null,
   "metadata": {},
   "outputs": [],
   "source": [
    "df"
   ]
  },
  {
   "cell_type": "code",
   "execution_count": null,
   "metadata": {},
   "outputs": [],
   "source": [
    "bokeh.plotting.output_notebook()\n",
    "hover_data = df[[\"Alter\", \"sex\", \"POCD\", \"MMSE\", \"ISCED_three_categories\", \"Groesse\", \"Gewicht\"]]\n",
    "p = umap.plot.interactive(reducer, labels=outliers_UMAP, hover_data=hover_data, point_size=4, theme=\"fire\")\n",
    "umap.plot.show(p)\n",
    "bokeh.plotting.save(p, plots_dir + \"Interactive_supervised_UMAP_showing_outliers.html\")"
   ]
  },
  {
   "cell_type": "code",
   "execution_count": null,
   "metadata": {},
   "outputs": [],
   "source": [
    "# Prediction performance:\n",
    "p = umap.plot.points(reducer, labels=Y, values=None, theme='fire')\n",
    "plt.title(\"UMAP embedding supervised on POD. Coloring=POD\")\n",
    "fig = p.get_figure()\n",
    "fig.savefig(plots_dir + \"UMAP_POD_supervised.pdf\")"
   ]
  },
  {
   "cell_type": "markdown",
   "metadata": {},
   "source": [
    "### Initial conclusion\n",
    "\n",
    "There were no strong outliers found. Supervised UMAP indicates that some patients with POD might be outliers, but those extreme values could be due to those patients being in the POD group -> exactly what we want to classify."
   ]
  },
  {
   "cell_type": "code",
   "execution_count": null,
   "metadata": {},
   "outputs": [],
   "source": [
    "# Save df:\n",
    "df.to_csv(data_dir + \"investigated.csv\", index=False)"
   ]
  }
 ],
 "metadata": {
  "kernelspec": {
   "display_name": "Python 3",
   "language": "python",
   "name": "python3"
  },
  "language_info": {
   "codemirror_mode": {
    "name": "ipython",
    "version": 3
   },
   "file_extension": ".py",
   "mimetype": "text/x-python",
   "name": "python",
   "nbconvert_exporter": "python",
   "pygments_lexer": "ipython3",
   "version": "3.7.7"
  }
 },
 "nbformat": 4,
 "nbformat_minor": 4
}