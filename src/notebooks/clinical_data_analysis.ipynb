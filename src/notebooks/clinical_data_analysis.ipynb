{
 "cells": [
  {
   "cell_type": "code",
   "execution_count": null,
   "metadata": {},
   "outputs": [],
   "source": [
    "import pandas as pd\n",
    "import numpy as np"
   ]
  },
  {
   "cell_type": "code",
   "execution_count": null,
   "metadata": {},
   "outputs": [],
   "source": [
    "df = pd.read_csv('../../data/core_data_set_20200211_adalab_clinical.csv', encoding='latin1').replace({' ': np.nan})"
   ]
  },
  {
   "cell_type": "code",
   "execution_count": 445,
   "metadata": {},
   "outputs": [],
   "source": [
    "# Filter T2 events:\n",
    "filter_events = ['subject', 'GDS_imputed_T2_trial', 'Status_3Monate', 'ÜberlebenBis90Tage', 'DreiMonatsmortalität', 'ICUdays', 'complication', 'inhouse_mortality_yes_no']\n",
    "filter_events.append('LOSdays')   # Not sure if this needs to be removed\n",
    "filter_events.append('OP_Dauer_min')  # OP dauer might only be known after the OP, but it might be an estimate of the duration\n",
    "filter_events.append(['complication', 'pain_yes_no']) # Leaks information about the success of the operation.\n",
    "df_clean = df[[col for col in df.columns if col not in filter_events]]"
   ]
  },
  {
   "cell_type": "code",
   "execution_count": 447,
   "metadata": {},
   "outputs": [],
   "source": [
    "# Filter POD nans and extract pods\n",
    "df_pod = df_no_sparse.dropna(subset=[\"POD\"])\n",
    "pod = df_pod[\"POD\"]\n",
    "df_no_pod = df_pod.drop(columns=[\"POD\"])"
   ]
  },
  {
   "cell_type": "code",
   "execution_count": 449,
   "metadata": {},
   "outputs": [],
   "source": [
    "# male/female to binary\n",
    "df_no_pocd.loc[df_no_pocd[\"dm0020_v1\"] == 'male', \"dm0020_v1\"] = 0\n",
    "df_no_pocd.loc[df_no_pocd[\"dm0020_v1\"] == 'female', \"dm0020_v1\"] = 1"
   ]
  },
  {
   "cell_type": "code",
   "execution_count": 450,
   "metadata": {},
   "outputs": [],
   "source": [
    "# norm\n",
    "df_no_pocd = (df_no_pocd - df_no_pocd.mean()) / df_no_pocd.std()"
   ]
  },
  {
   "cell_type": "code",
   "execution_count": null,
   "metadata": {},
   "outputs": [],
   "source": [
    "# Only use these features:\n",
    "#df_no_pocd = df_no_pocd[[\"OP_Dauer_min\", \"op0270_v2\", \"ie0072_v1\"]]"
   ]
  },
  {
   "cell_type": "code",
   "execution_count": null,
   "metadata": {},
   "outputs": [],
   "source": [
    "from sklearn.ensemble import GradientBoostingClassifier\n",
    "from sklearn.linear_model import LogisticRegression"
   ]
  },
  {
   "cell_type": "code",
   "execution_count": 496,
   "metadata": {},
   "outputs": [],
   "source": [
    "#clf = GradientBoostingClassifier(n_estimators=100, max_depth=3)\n",
    "clf = LogisticRegression()"
   ]
  },
  {
   "cell_type": "code",
   "execution_count": null,
   "metadata": {},
   "outputs": [],
   "source": [
    "from sklearn.model_selection import train_test_split"
   ]
  },
  {
   "cell_type": "code",
   "execution_count": null,
   "metadata": {},
   "outputs": [],
   "source": [
    "x = df_no_pocd.to_numpy().astype(float)\n",
    "y = pod.to_numpy().astype(float)\n",
    "x_train, x_test, y_train, y_test = train_test_split(x, y, test_size=0.2, stratify=y)"
   ]
  },
  {
   "cell_type": "code",
   "execution_count": null,
   "metadata": {},
   "outputs": [],
   "source": [
    "1 - y_test.mean()"
   ]
  },
  {
   "cell_type": "code",
   "execution_count": null,
   "metadata": {},
   "outputs": [],
   "source": [
    "clf.fit(x_train, y_train)\n",
    "preds = clf.predict(x_test)\n",
    "(preds == y_test).mean()"
   ]
  },
  {
   "cell_type": "code",
   "execution_count": null,
   "metadata": {},
   "outputs": [],
   "source": [
    "importance_df = pd.DataFrame({\"value\": clf.feature_importances_, \"feature\": df_no_pocd.columns}).sort_values(\"value\")"
   ]
  },
  {
   "cell_type": "code",
   "execution_count": null,
   "metadata": {},
   "outputs": [],
   "source": [
    "importance_df.iloc[-3:]"
   ]
  },
  {
   "cell_type": "code",
   "execution_count": null,
   "metadata": {},
   "outputs": [],
   "source": [
    "# auc\n",
    "from sklearn.metrics import roc_auc_score\n",
    "auc = roc_auc_score(y_test, clf.predict_proba(x_test)[:, 1])\n",
    "auc"
   ]
  },
  {
   "cell_type": "code",
   "execution_count": null,
   "metadata": {},
   "outputs": [],
   "source": [
    "import matplotlib.pyplot as plt"
   ]
  },
  {
   "cell_type": "code",
   "execution_count": null,
   "metadata": {},
   "outputs": [],
   "source": [
    "import umap\n",
    "import sklearn"
   ]
  },
  {
   "cell_type": "code",
   "execution_count": null,
   "metadata": {},
   "outputs": [],
   "source": [
    "mapper = sklearn.decomposition.PCA(n_components=10)\n",
    "#mapper = umap.UMAP(n_components=10, n_neighbors=5)"
   ]
  },
  {
   "cell_type": "code",
   "execution_count": null,
   "metadata": {},
   "outputs": [],
   "source": [
    "train_embedding = mapper.fit_transform(x_train)\n",
    "clf.fit(train_embedding, y_train)\n",
    "test_embedding = mapper.transform(x_test)\n",
    "preds = clf.predict(test_embedding)\n",
    "(preds == y_test).mean()"
   ]
  },
  {
   "cell_type": "code",
   "execution_count": null,
   "metadata": {},
   "outputs": [],
   "source": [
    "1 - y_test.mean()"
   ]
  },
  {
   "cell_type": "code",
   "execution_count": null,
   "metadata": {},
   "outputs": [],
   "source": [
    "#umap.plot.points(mapper)"
   ]
  },
  {
   "cell_type": "code",
   "execution_count": null,
   "metadata": {},
   "outputs": [],
   "source": [
    "plt.scatter(\n",
    "    train_embedding[:, 0],\n",
    "    train_embedding[:, 1], \n",
    "    c=y_train)"
   ]
  },
  {
   "cell_type": "code",
   "execution_count": null,
   "metadata": {},
   "outputs": [],
   "source": []
  },
  {
   "cell_type": "code",
   "execution_count": null,
   "metadata": {},
   "outputs": [],
   "source": [
    "plt.scatter(\n",
    "    test_embedding[:, 0],\n",
    "    test_embedding[:, 1], \n",
    "    c=y_test)"
   ]
  },
  {
   "cell_type": "markdown",
   "metadata": {},
   "source": [
    "# Create allow and remove lists"
   ]
  },
  {
   "cell_type": "code",
   "execution_count": null,
   "metadata": {},
   "outputs": [],
   "source": [
    "df.columns"
   ]
  },
  {
   "cell_type": "code",
   "execution_count": null,
   "metadata": {},
   "outputs": [],
   "source": [
    "remove_list = ['GDS_imputed_T2_trial', 'Status_3Monate', 'ÜberlebenBis90Tage', 'DreiMonatsmortalität', 'ICUdays', 'complication', 'inhouse_mortality_yes_no', 'LOSdays', 'OP_Dauer_min', 'pain_yes_no', 'cc_score_post', 'LackOfCompliance_ed2', 'DeceasedBeforeFU', 'admscore_v2', 'admscore_v3', 'admscore_v4', 'admscore_v5', 'admscore_v6', 'admscore_v7', 'admscore_v8', 'admscore_v9', 'GDS_imputed_T1_trial', 'localisation', 'anesthComb', 'icd0300_v1']\n",
    "\n",
    "# anesthComb: has only nan and 0\n",
    "# localisation: drop this feature and instead use the one-hot encoded versions localisation_ThrAbdPlv and localisation_intracranial\n",
    "# admscore for v2 and above: they are all post-op\n"
   ]
  },
  {
   "cell_type": "code",
   "execution_count": null,
   "metadata": {},
   "outputs": [],
   "source": [
    "dest_file = open('../preprocess_utils/feature_lists/removelist_clinical_features.txt','w')\n",
    "\n",
    "for feat in remove_list:\n",
    "    dest_file.write(feat + '\\n')\n",
    "dest_file.close()"
   ]
  },
  {
   "cell_type": "code",
   "execution_count": null,
   "metadata": {
    "tags": []
   },
   "outputs": [],
   "source": [
    "allow_list = list(set(df.columns) - set(remove_list))\n",
    "print(allow_list)\n"
   ]
  },
  {
   "cell_type": "code",
   "execution_count": null,
   "metadata": {},
   "outputs": [],
   "source": [
    "np.save('../preprocess_utils/feature_lists/allowlist_clinical_data.npy', allow_list)"
   ]
  },
  {
   "cell_type": "markdown",
   "metadata": {},
   "source": [
    "### feature \"localisation_intracranial\" and case \"intracranial\" in feature \"localisation\" are identical -> remove \"localisation_intracranial\" and do one-hot later"
   ]
  },
  {
   "cell_type": "code",
   "execution_count": null,
   "metadata": {},
   "outputs": [],
   "source": [
    "df.loc[:, df.columns != 'subject'] = df.loc[:, df.columns != 'subject'].apply(pd.to_numeric, errors='coerce')"
   ]
  },
  {
   "cell_type": "code",
   "execution_count": null,
   "metadata": {},
   "outputs": [],
   "source": [
    "((df['localisation_ThrAbdPlv'] == 1) == (df['localisation'] == (2 or 3))).sum()"
   ]
  },
  {
   "cell_type": "code",
   "execution_count": null,
   "metadata": {},
   "outputs": [],
   "source": [
    "((df['localisation_intracranial'] == '1') == (df['localisation'] == '1')).sum()"
   ]
  },
  {
   "cell_type": "code",
   "execution_count": null,
   "metadata": {},
   "outputs": [],
   "source": [
    "df['mna0080_v1'].isna().sum()"
   ]
  },
  {
   "cell_type": "markdown",
   "metadata": {},
   "source": [
    "# Looking at distributions"
   ]
  },
  {
   "cell_type": "code",
   "execution_count": null,
   "metadata": {},
   "outputs": [],
   "source": [
    "import sys\n",
    "sys.path.insert(0, '..')"
   ]
  },
  {
   "cell_type": "code",
   "execution_count": null,
   "metadata": {},
   "outputs": [],
   "source": [
    "\n",
    "from utils.plot_utils import plot_hist\n",
    "plots_dir = '../../plots/new_data/'\n",
    "\n",
    "plot_hist(df.loc[:, [col for col in allow_list if col != 'subject']], name=\"clinical\", plots_dir=plots_dir)"
   ]
  },
  {
   "cell_type": "markdown",
   "metadata": {},
   "source": [
    "### Yeo changes bin variables --> exclude those from transformation"
   ]
  },
  {
   "cell_type": "code",
   "execution_count": null,
   "metadata": {},
   "outputs": [],
   "source": [
    "from preprocess_utils.preprocessing_utils import apply_yeojohnson\n",
    "from scipy.stats import yeojohnson\n"
   ]
  },
  {
   "cell_type": "code",
   "execution_count": null,
   "metadata": {},
   "outputs": [],
   "source": [
    "df['ASA_bin'].hist()"
   ]
  },
  {
   "cell_type": "code",
   "execution_count": null,
   "metadata": {},
   "outputs": [],
   "source": [
    "import matplotlib.pyplot as plt\n",
    "plt.hist(yeojohnson(df['ASA_bin'])[0])"
   ]
  },
  {
   "cell_type": "code",
   "execution_count": null,
   "metadata": {},
   "outputs": [],
   "source": [
    "df['ASA_bin'].mean()"
   ]
  },
  {
   "cell_type": "code",
   "execution_count": null,
   "metadata": {},
   "outputs": [],
   "source": [
    "yeojohnson(df['ASA_bin'])[0].mean()"
   ]
  },
  {
   "cell_type": "code",
   "execution_count": null,
   "metadata": {},
   "outputs": [],
   "source": [
    "no_yeo_list = ['brain_lh_rostralmiddlefrontal_area', 'brain_BrainSegVol',\n",
    "       'brain_BrainSegVolNotVentSurf', 'brain_lateraloccipital_area',\n",
    "       'brain_RightCerebellumWhiteMatter', 'brain_superiorfrontal_area',\n",
    "       'brain_TotalGrayVol', 'brain_lh_superiorfrontal_volume',\n",
    "       'brain_lhCerebralWhiteMatterVol', 'brain_superiorfrontal_volume',\n",
    "       'brain_lh_rostralmiddlefrontal_volume',\n",
    "       'brain_lateraloccipital_volume', 'brain_inferiorparietal_area',\n",
    "       'brain_lh_postcentral_volume', 'brain_lh_superiorparietal_area',\n",
    "       'brain_lh_precuneus_volume', 'brain_rostralmiddlefrontal_volume',\n",
    "       'brain_rh_inferiorparietal_area',\n",
    "       'brain_lh_superiorparietal_volume',\n",
    "       'brain_rh_lateraloccipital_area', 'brain_lingual_volume',\n",
    "       'brain_rh_lateraloccipital_volume',\n",
    "       'brain_rh_superiorparietal_volume',\n",
    "       'brain_rh_superiorfrontal_area', 'brain_precuneus_volume',\n",
    "       'brain_lh_inferiortemporal_volume', 'brain_SupraTentorialVol',\n",
    "       'brain_superiorparietal_volume', 'brain_lh_superiorfrontal_area',\n",
    "       'brain_lh_G_front_sup_area', 'brain_LeftCerebellumWhiteMatter',\n",
    "       'brain_MaskVol', 'brain_superiorparietal_area',\n",
    "       'brain_rh_rostralmiddlefrontal_volume', 'brain_BrainStem',\n",
    "       'brain_lh_medialorbitofrontal_volume',\n",
    "       'brain_SupraTentorialVolNotVent', 'brain_postcentral_volume',\n",
    "       'brain_rostralmiddlefrontal_area', 'brain_BrainSegVolNotVent',\n",
    "       'brain_rh_rostralmiddlefrontal_area', 'brain_lh_lingual_volume',\n",
    "       'brain_SupraTentorialVolNotVentVox',\n",
    "       'brain_lh_G_parietal_sup_volume', 'brain_CerebellumWhiteMatter',\n",
    "       'brain_rh_superiorfrontal_volume',\n",
    "       'blood_T1_IL10_pgml', 'blood_T1_Volk_IL8_pgml', 'blood_T1_IL18_pgml_Boraschi']"
   ]
  },
  {
   "cell_type": "code",
   "execution_count": null,
   "metadata": {},
   "outputs": [],
   "source": [
    "np.save(\"/home/angelie/Documents/AdaLab/pharmaimage/src/preprocess_utils/feature_lists/ignorelist_yeo.npy\", no_yeo_list)"
   ]
  },
  {
   "cell_type": "code",
   "execution_count": null,
   "metadata": {},
   "outputs": [],
   "source": []
  }
 ],
 "metadata": {
  "kernelspec": {
   "display_name": "Python 3",
   "language": "python",
   "name": "python3"
  },
  "language_info": {
   "codemirror_mode": {
    "name": "ipython",
    "version": 3
   },
   "file_extension": ".py",
   "mimetype": "text/x-python",
   "name": "python",
   "nbconvert_exporter": "python",
   "pygments_lexer": "ipython3",
   "version": "3.8.5"
  }
 },
 "nbformat": 4,
 "nbformat_minor": 4
}