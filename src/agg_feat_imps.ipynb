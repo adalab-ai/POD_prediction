{
 "cells": [
  {
   "cell_type": "code",
   "execution_count": 1,
   "metadata": {},
   "outputs": [],
   "source": [
    "import os\n",
    "import joblib\n",
    "from os.path import join\n",
    "\n",
    "import numpy as np\n",
    "import pandas as pd\n",
    "import matplotlib.pyplot as plt\n",
    "\n",
    "import sys\n",
    "import importlib\n",
    "sys.path.append(\"..\")\n",
    "import src.utils.load_data_utils\n",
    "importlib.reload(src.utils.load_data_utils)\n",
    "from src.utils.load_data_utils import get_data"
   ]
  },
  {
   "cell_type": "code",
   "execution_count": 2,
   "metadata": {},
   "outputs": [],
   "source": [
    "# read files\n",
    "root_folder = \"../results_eval_tune\"\n",
    "files = os.listdir(root_folder)\n",
    "\n",
    "# set filter\n",
    "files = [s for s in files if \"xgb\" in s and \"Jul-20\" in s]"
   ]
  },
  {
   "cell_type": "code",
   "execution_count": 3,
   "metadata": {},
   "outputs": [
    {
     "name": "stdout",
     "output_type": "stream",
     "text": [
      "Jul-20-02:29:14_xgb_0k_freeze_10_5_clinical 10\n"
     ]
    }
   ],
   "source": [
    "model_dict = {}\n",
    "\n",
    "for file in files:\n",
    "    eval_tuning_path = join(root_folder, file)\n",
    "    study_list =  os.listdir(eval_tuning_path)\n",
    "    study_list = [study for study in study_list if study.endswith(\".pkl\") and study != \"cfg.pkl\"]\n",
    "    if len(study_list) != 10:\n",
    "        continue\n",
    "    print(file, len(study_list))\n",
    "\n",
    "    names = [\"hyperparams\", \"eval_score\", \"score_dict\", \"y_pred_logits\", \"y_pred_binary\", \"y_true\"]\n",
    "    models = [joblib.load(join(eval_tuning_path, study))[-1] for study in study_list]\n",
    "    model_dict[file] = models\n",
    "    # print hyperparams:\n",
    "    if \"opt\" in file:\n",
    "        for study in study_list:\n",
    "            hypers = joblib.load(join(eval_tuning_path, study))[0]\n",
    "            print(hypers[\"df\"])"
   ]
  },
  {
   "cell_type": "code",
   "execution_count": 4,
   "metadata": {},
   "outputs": [
    {
     "name": "stdout",
     "output_type": "stream",
     "text": [
      "Jul-20-02:29:14_xgb_0k_freeze_10_5_clinical\n"
     ]
    }
   ],
   "source": [
    "feat_imp_dict = {}\n",
    "for key in model_dict:\n",
    "    if isinstance(model_dict[key][0], np.ndarray):\n",
    "        continue\n",
    "    print(key)\n",
    "    feat_imp_dict[key] = [model.feature_importances_ for model in model_dict[key]]"
   ]
  },
  {
   "cell_type": "code",
   "execution_count": 5,
   "metadata": {},
   "outputs": [
    {
     "name": "stdout",
     "output_type": "stream",
     "text": [
      "Jul-20-02:29:14_xgb_0k_freeze_10_5_clinical\n",
      "1.0\n"
     ]
    }
   ],
   "source": [
    "for key in feat_imp_dict:\n",
    "    print(key)\n",
    "    mean_feats = np.mean(feat_imp_dict[key], axis=0)\n",
    "    std_feats = np.std(feat_imp_dict[key], axis=0)\n",
    "\n",
    "    print(mean_feats.sum())"
   ]
  },
  {
   "cell_type": "code",
   "execution_count": 6,
   "metadata": {},
   "outputs": [
    {
     "name": "stdout",
     "output_type": "stream",
     "text": [
      "Jul-20-02:29:14_xgb_0k_freeze_10_5_clinical\n",
      "7\n",
      "\n"
     ]
    }
   ],
   "source": [
    "for key in feat_imp_dict:\n",
    "    num_feats_key = feat_imp_dict[key][0].shape[0]\n",
    "    print(key)\n",
    "    print(num_feats_key)\n",
    "    print()\n",
    "    assert num_feats_key > 4, f'{key}, {num_feats_key}'"
   ]
  },
  {
   "cell_type": "code",
   "execution_count": 39,
   "metadata": {},
   "outputs": [],
   "source": [
    "# MAKE CHANGES HERE!!\n",
    "#dts = [\"clinical\", \"blood\", \"sparse_img\"]\n",
    "dts = [\"clinical\"]\n",
    "round_number = 3\n",
    "# setting the reduction threshold to 0.0 will not remove any features.\n",
    "# the higher, the more features are removed. I suggest 0.1-0.5.\n",
    "reduction_threshold = 0.1"
   ]
  },
  {
   "cell_type": "code",
   "execution_count": 40,
   "metadata": {},
   "outputs": [],
   "source": [
    "all_dts = [\"clinical\", \"blood\", \"imaging_pca\", \"sparse_img\"]\n",
    "features = None if round_number == 0 else f\"clinical_round{round_number}_rfe_feats.pkl\""
   ]
  },
  {
   "cell_type": "code",
   "execution_count": 41,
   "metadata": {},
   "outputs": [],
   "source": [
    "df = \"yeo_Y/z/median/uni_clip_0.9999/multi_clip_N\"\n",
    "x_train, y_train, x_eval, y_eval, n_features, feature_names, class_weights = get_data(df_name=df, split='no-split', nf=0, v=0,\n",
    "             blood=(\"blood\" in dts), static=1, clinical=(\"clinical\" in dts), imaging=0, imaging_pca=(\"imaging\" in dts), miss_feats=0,\n",
    "             sparse_img=(\"sparse_img\" in dts),\n",
    "             features=features\n",
    "             )"
   ]
  },
  {
   "cell_type": "code",
   "execution_count": 42,
   "metadata": {},
   "outputs": [
    {
     "name": "stdout",
     "output_type": "stream",
     "text": [
      "Num feats:  7\n",
      "All: 929 Dev: 743 Test 185\n",
      "Train split size:  668 Val split size:  74\n"
     ]
    }
   ],
   "source": [
    "data_first = x_train[0]\n",
    "data_len = len(data_first)\n",
    "print(\"Num feats: \", data_first.shape[1])\n",
    "print(\"All:\", data_len, \"Dev:\", int(data_len * 0.8), \"Test\", int(data_len * 0.2))\n",
    "print(\"Train split size: \", int(data_len * 0.8 * 0.9), \"Val split size: \", int(data_len * 0.8 * 0.1))"
   ]
  },
  {
   "cell_type": "code",
   "execution_count": 43,
   "metadata": {},
   "outputs": [],
   "source": [
    "study_name = [key for key in feat_imp_dict if all([dt in key for dt in dts]) and not any([dt in key for dt in [other_dt for other_dt in all_dts if other_dt not in dts]])]\n",
    "study_name = study_name[0]\n",
    "study_name\n",
    "feat_imps = feat_imp_dict[study_name]"
   ]
  },
  {
   "cell_type": "code",
   "execution_count": 44,
   "metadata": {},
   "outputs": [
    {
     "data": {
      "text/plain": [
       "7"
      ]
     },
     "execution_count": 44,
     "metadata": {},
     "output_type": "execute_result"
    }
   ],
   "source": [
    "len(feature_names)"
   ]
  },
  {
   "cell_type": "code",
   "execution_count": 45,
   "metadata": {},
   "outputs": [
    {
     "data": {
      "text/plain": [
       "7"
      ]
     },
     "execution_count": 45,
     "metadata": {},
     "output_type": "execute_result"
    }
   ],
   "source": [
    "feat_imp_dict[study_name][0].shape[0]"
   ]
  },
  {
   "cell_type": "code",
   "execution_count": 46,
   "metadata": {},
   "outputs": [],
   "source": [
    "assert len(feature_names) == feat_imp_dict[study_name][0].shape[0], \"feature quantity of loaded data and model do not match - make sure that 'dts' is the same here as in the trained model\""
   ]
  },
  {
   "cell_type": "code",
   "execution_count": 47,
   "metadata": {},
   "outputs": [],
   "source": [
    "rename = True\n",
    "orig_feature_names = feature_names\n",
    "if rename:\n",
    "    for dt in all_dts:\n",
    "        feature_names = [col[len(dt) + 1:] if col.startswith(dt) else col for col in feature_names]\n",
    "    feature_names = [col.replace(\"_\", \" \") for col in feature_names]\n",
    "    feature_names = [col.replace(\" nan\", \" - Missingness Feature\") for col in feature_names]\n",
    "    feature_names = [col[0].upper() + col[1:] for col in feature_names]\n",
    "\n",
    "    feature_names = [col[9:] if \"clinical\" in col else col for col in feature_names]\n",
    "    feature_names = [col[6:] if \"blood\" in col else col for col in feature_names]"
   ]
  },
  {
   "cell_type": "code",
   "execution_count": 48,
   "metadata": {},
   "outputs": [],
   "source": [
    "df = pd.DataFrame({\"mean_val\": np.array(feat_imps).mean(0), \"feat_names\": feature_names, \"orig_feat_names\": orig_feature_names})\n",
    "df = df.sort_values(\"mean_val\", ascending=True)"
   ]
  },
  {
   "cell_type": "code",
   "execution_count": 49,
   "metadata": {},
   "outputs": [],
   "source": [
    "#suffix = \"\"\n",
    "suffix = f\"_round{round_number + 1}_rfe\""
   ]
  },
  {
   "cell_type": "code",
   "execution_count": 50,
   "metadata": {
    "tags": []
   },
   "outputs": [
    {
     "name": "stdout",
     "output_type": "stream",
     "text": [
      "7\n",
      "6\n",
      "clinical_round4_rfe\n",
      "Saving to  clinical_round4_rfe.jpg\n"
     ]
    },
    {
     "name": "stderr",
     "output_type": "stream",
     "text": [
      "<ipython-input-50-8410da1f08d9>:6: SettingWithCopyWarning: \n",
      "A value is trying to be set on a copy of a slice from a DataFrame.\n",
      "Try using .loc[row_indexer,col_indexer] = value instead\n",
      "\n",
      "See the caveats in the documentation: https://pandas.pydata.org/pandas-docs/stable/user_guide/indexing.html#returning-a-view-versus-a-copy\n",
      "  mean_df[\"mean_val\"] = mean_df[\"mean_val\"] * 100\n"
     ]
    },
    {
     "data": {
      "image/png": "[encoded data removed]",
      "text/plain": [
       "<Figure size 432x432 with 1 Axes>"
      ]
     },
     "metadata": {
      "needs_background": "light"
     },
     "output_type": "display_data"
    }
   ],
   "source": [
    "#mean_df = df.mean(axis=0).sort_values(ascending=True)\n",
    "# remove everything above 90% explained importance\n",
    "print(len(df))\n",
    "mean_df = df[df[\"mean_val\"].cumsum() >= reduction_threshold]\n",
    "print(len(mean_df))\n",
    "mean_df[\"mean_val\"] = mean_df[\"mean_val\"] * 100\n",
    "if dts == [\"sparse_img\"]:\n",
    "    figsize = (6, 2)\n",
    "else:\n",
    "    figsize = (6, 6)\n",
    "\n",
    "fig = mean_df.plot.barh(\"feat_names\", \"mean_val\", figsize=figsize)\n",
    "plt.xlabel(\"Percentage of importance\")\n",
    "plt.ylabel(\"\")\n",
    "plt.tight_layout()\n",
    "name = \"_\".join(dts) + suffix\n",
    "print(name)\n",
    "plt.savefig(name + \"importances.jpg\")\n",
    "mean_df.to_csv(name + \"importances.csv\")\n",
    "print(\"Saving to \", name + \".jpg\")"
   ]
  },
  {
   "cell_type": "code",
   "execution_count": 51,
   "metadata": {},
   "outputs": [
    {
     "name": "stdout",
     "output_type": "stream",
     "text": [
      "selected feats:  ['clinical_Peripheral surgery', 'clinical_Frailty (3 levels)', 'clinical_longterm BDZ intake', 'clinical_MMSE', 'clinical_Anaesthesia duration over 4h', 'clinical_Surgery duration over 4h']\n"
     ]
    },
    {
     "data": {
      "text/plain": [
       "['clinical_round4_rfe_feats.pkl']"
      ]
     },
     "execution_count": 51,
     "metadata": {},
     "output_type": "execute_result"
    }
   ],
   "source": [
    "# save top p\n",
    "save_df = mean_df[mean_df[\"feat_names\"] != \"Preop. cognitive impairment\"]\n",
    "selected_feats = list(save_df[\"orig_feat_names\"])\n",
    "print(\"selected feats: \", selected_feats)\n",
    "import joblib\n",
    "joblib.dump(selected_feats, name + \"_feats.pkl\")"
   ]
  },
  {
   "cell_type": "code",
   "execution_count": null,
   "metadata": {},
   "outputs": [],
   "source": []
  }
 ],
 "metadata": {
  "kernelspec": {
   "display_name": "Python 3",
   "language": "python",
   "name": "python3"
  },
  "language_info": {
   "codemirror_mode": {
    "name": "ipython",
    "version": 3
   },
   "file_extension": ".py",
   "mimetype": "text/x-python",
   "name": "python",
   "nbconvert_exporter": "python",
   "pygments_lexer": "ipython3",
   "version": "3.8.10"
  }
 },
 "nbformat": 4,
 "nbformat_minor": 4
}
